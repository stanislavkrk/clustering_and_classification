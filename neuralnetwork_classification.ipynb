{
  "cells": [
    {
      "cell_type": "markdown",
      "metadata": {
        "id": "view-in-github",
        "colab_type": "text"
      },
      "source": [
        "<a href=\"https://colab.research.google.com/github/stanislavkrk/clustering_and_classification/blob/main/neuralnetwork_classification.ipynb\" target=\"_parent\"><img src=\"https://colab.research.google.com/assets/colab-badge.svg\" alt=\"Open In Colab\"/></a>"
      ]
    },
    {
      "metadata": {
        "ExecuteTime": {
          "end_time": "2025-05-23T09:51:20.546757Z",
          "start_time": "2025-05-23T09:50:56.963421Z"
        },
        "id": "44aba7a89cd7ca57"
      },
      "cell_type": "code",
      "source": [
        "import pandas as pd\n",
        "\n",
        "from keras._tf_keras.keras import Sequential\n",
        "from keras._tf_keras.keras.layers import Dense, Input, Dropout, BatchNormalization\n",
        "from keras._tf_keras.keras.optimizers import Adam, Nadam, RMSprop, SGD\n",
        "from keras import regularizers\n",
        "\n",
        "from sklearn.model_selection import KFold, train_test_split\n",
        "from sklearn.metrics import f1_score, accuracy_score, confusion_matrix\n",
        "import numpy as np\n",
        "\n",
        "import random\n",
        "import tensorflow as tf\n",
        "\n",
        "import seaborn as sns\n",
        "import matplotlib.pyplot as plt"
      ],
      "id": "44aba7a89cd7ca57",
      "outputs": [],
      "execution_count": null
    },
    {
      "metadata": {
        "id": "46a589af367da498"
      },
      "cell_type": "markdown",
      "source": [
        "### Global random fix"
      ],
      "id": "46a589af367da498"
    },
    {
      "metadata": {
        "ExecuteTime": {
          "end_time": "2025-05-23T09:51:20.593251Z",
          "start_time": "2025-05-23T09:51:20.569318Z"
        },
        "id": "b4bdab11d888424f"
      },
      "cell_type": "code",
      "source": [
        "seed = 42\n",
        "\n",
        "random.seed(seed)\n",
        "np.random.seed(seed)\n",
        "tf.random.set_seed(seed)"
      ],
      "id": "b4bdab11d888424f",
      "outputs": [],
      "execution_count": null
    },
    {
      "metadata": {
        "id": "2fae0d7ec5b965e9"
      },
      "cell_type": "markdown",
      "source": [
        "# Project Overview\n",
        "---\n",
        "## Customer Segmentation & Classification using Neural Networks\n",
        "\n",
        "In the previous stage of this project, we performed customer segmentation using clustering techniques on transactional and demographic data. As a result, we identified **three different customer profiles**:\n",
        "\n",
        "### 🟡 **Cluster 0 – Low-Income Passive Shoppers**\n",
        "- **Purchasing Behavior**: Lowest spending across all product categories, especially wines, meat, and fish.\n",
        "- **Income**: Lowest average income (~33,000).\n",
        "- **Marketing Response**: Minimal engagement with campaigns; almost no reactions.\n",
        "- **Demographics**: Slightly younger average age (~53), typically have 1+ children.\n",
        "- **Education & Status**: Higher share of basic education; more single or divorced individuals.\n",
        "- **Customer Insight**: This group is financially constrained and disengaged from marketing. Not the ideal target for premium or campaign-driven strategies.\n",
        "\n",
        "\n",
        "### 🟢 **Cluster 1 – High-Income Engaged Buyers**\n",
        "- **Purchasing Behavior**: Highest expenditure, especially on **Wines (~550)** and **Meat (~390)**.\n",
        "- **Income**: Highest among all clusters (~73,000).\n",
        "- **Marketing Response**: Most responsive segment; highest campaign acceptance rate.\n",
        "- **Shopping Activity**: Very active across all channels (store, web, catalog).\n",
        "- **Demographics**: Lowest number of children (~0.3), highly educated, mostly married.\n",
        "- **Customer Insight**: Ideal premium customers. They are highly engaged, loyal, and responsive to promotions. Great candidates for exclusive deals and upselling strategies.\n",
        "\n",
        "\n",
        "### 🟣 **Cluster 2 – Family-Oriented Mid-Spenders**\n",
        "- **Purchasing Behavior**: Moderate spending, second highest after Cluster 1.\n",
        "- **Income**: Middle-income bracket (~55,000).\n",
        "- **Marketing Response**: Average engagement, more than Cluster 0 but less than Cluster 1.\n",
        "- **Demographics**: Highest number of children (~1.3), oldest average age (58), highly educated.\n",
        "- **Customer Insight**: Balanced and stable customers. They may respond well to family-oriented offers, value packages, or targeted communication emphasizing practicality and trust.\n",
        "\n",
        "## Project Goal\n",
        "---\n",
        "### Predicting Customer Cluster via Neural Networks\n",
        "\n",
        "In this phase, we will build a **neural network model** capable of **classifying new customers into one of the three clusters** based on their demographic characteristics and early purchasing behavior.\n",
        "\n",
        "### Key Idea:\n",
        "- For existing customers, we have aggregated purchase data over the last two years.\n",
        "- For new customers, we will simulate a \"trial period\" (e.g., the first 30 days of activity) to collect initial spending patterns.\n",
        "- The model will predict which customer segment (cluster) the new client most likely belongs to, using these early indicators.\n",
        "\n",
        "### Why is this useful?\n",
        "- Allows the business to apply **personalized marketing strategies** immediately after customer onboarding.\n",
        "- Helps in **forecasting lifetime value** and **targeting offers** aligned with customer preferences.\n",
        "\n",
        "### Approach\n",
        "1. Prepare input features reflecting normalized daily purchasing patterns.\n",
        "2. Design and train several neural network architectures using the TensorFlow Sequential.\n",
        "3. Compare models and select the most effective structure.\n",
        "4. Evaluate model performance on unseen data.\n"
      ],
      "id": "2fae0d7ec5b965e9"
    },
    {
      "metadata": {
        "id": "7ebcc9e838118208"
      },
      "cell_type": "markdown",
      "source": [
        "# Data Preparation Logic\n",
        "---\n",
        "\n",
        "In this project, we are working with the same dataset that was used for customer segmentation and clustering. Based on this data, we previously identified three customer profiles (clusters) reflecting different purchasing behaviors and demographic characteristics.\n",
        "\n",
        "To build a neural network classifier for new customer identification, we must ensure that the input features represent **comparable scales of customer activity**.\n",
        "\n",
        "### Feature Types and Normalization\n",
        "\n",
        "#### Features aggregated over **2 years (730 days)**:\n",
        "These features represent total spending over the past two years and need to be normalized to reflect **daily spending intensity**:\n",
        "- `MntWines`: Amount spent on wine.\n",
        "- `MntFruits`: Amount spent on fruits.\n",
        "- `MntMeatProducts`: Amount spent on meat.\n",
        "- `MntFishProducts`: Amount spent on fish.\n",
        "- `MntSweetProducts`: Amount spent on sweets.\n",
        "- `MntGoldProds`: Amount spent on gold.\n",
        "\n",
        "These will be divided by **730** to calculate an **average daily spending**.\n",
        "\n",
        "#### Features aggregated over **1 month (30 days)**:\n",
        "These features represent monthly activity and should be normalized to **daily behavioral frequency**:\n",
        "- `NumWebPurchases`: Number of purchases through the website.\n",
        "- `NumCatalogPurchases`: Number of catalog purchases.\n",
        "- `NumStorePurchases`: Number of in-store purchases.\n",
        "- `NumDealsPurchases`: Number of purchases using discounts.\n",
        "- `NumWebVisitsMonth`: Number of website visits in the last month.\n",
        "\n",
        "These will be divided by **30** to calculate an **average daily activity rate**.\n",
        "\n",
        "> Even though the dataset does not explicitly specify the period for `NumWebPurchases`, `NumCatalogPurchases`, `NumStorePurchases`, and `NumDealsPurchases`, their scale and similarity to `NumWebVisitsMonth` (which is explicitly per month) indicate they are also monthly aggregates.\n",
        "\n",
        "### Why Normalize to Daily Values?\n",
        "\n",
        "For historical customers, we have long-term cumulative data. For new customers, we will only have data for a **shorter observation period** (e.g., 30 days).\n",
        "\n",
        "To make fair predictions, we will:\n",
        "- Normalize historical customer data to daily averages.\n",
        "- For a new customer: calculate `daily_value = total_value_in_30_days / 30`.\n",
        "\n",
        "This creates a **consistent daily activity profile**, enabling direct comparison between historical and new customers, regardless of time in the system.\n",
        "\n",
        "### Model Training & New Customer Classification Workflow\n",
        "\n",
        "The neural network classifier will be trained on:\n",
        "- **Demographic features** (income, family status, education, etc.).\n",
        "- **Behavioral features normalized to daily values**.\n",
        "\n",
        "When a new customer joins:\n",
        "1. We will collect their purchasing activity over a **defined window (e.g., 30 days)**.\n",
        "2. Normalize these cumulative values to daily averages.\n",
        "3. Feed these features into the trained classifier.\n",
        "4. The model will predict the customer’s cluster (profile).\n",
        "\n",
        "### Conclusion\n",
        "\n",
        "Normalizing all cumulative features to daily values ensures that model predictions are based on **behavioral intensity**, not the absolute time span of customer activity. This makes classification robust, scalable, and relevant for real-time business applications.\n"
      ],
      "id": "7ebcc9e838118208"
    },
    {
      "metadata": {
        "id": "737022faf6e5cebc"
      },
      "cell_type": "markdown",
      "source": [
        "### Load already prepared and ready for use dataset"
      ],
      "id": "737022faf6e5cebc"
    },
    {
      "metadata": {
        "ExecuteTime": {
          "end_time": "2025-05-23T09:51:20.748451Z",
          "start_time": "2025-05-23T09:51:20.625167Z"
        },
        "colab": {
          "base_uri": "https://localhost:8080/",
          "height": 256
        },
        "id": "38f807f20aacbfcf",
        "outputId": "2ce3cb7f-ea02-469d-8123-3022ff9fdea6"
      },
      "cell_type": "code",
      "source": [
        "data = pd.read_csv(\"https://drive.google.com/uc?export=download&id=1TSpj4gfFZ_BiOKuk0sYNdTHw_mqWeBvl\", sep=';')\n",
        "data.head()"
      ],
      "id": "38f807f20aacbfcf",
      "outputs": [
        {
          "output_type": "execute_result",
          "data": {
            "text/plain": [
              "     Income   Recency       Age  Total_Children  Complain  Education_Basic  \\\n",
              "0  0.428623  0.310532  0.986443       -1.264803         0                0   \n",
              "1 -0.019686 -0.380509  1.236801        1.405806         0                0   \n",
              "2  0.840808 -0.795134  0.318822       -1.264803         0                0   \n",
              "3 -1.114019 -0.795134 -1.266777        0.070501         0                0   \n",
              "4  0.433888  1.554407 -1.016420        0.070501         0                0   \n",
              "\n",
              "   Education_Graduation  Education_Master  Education_PhD  \\\n",
              "0                     1                 0              0   \n",
              "1                     1                 0              0   \n",
              "2                     1                 0              0   \n",
              "3                     1                 0              0   \n",
              "4                     0                 0              1   \n",
              "\n",
              "   Marital_Status_Married  ...  MntFruits  MntFishProducts  MntSweetProducts  \\\n",
              "0                       0  ...   1.575685         2.486338          1.513478   \n",
              "1                       0  ...  -0.642898        -0.655466         -0.640293   \n",
              "2                       0  ...   0.581148         1.358985         -0.145173   \n",
              "3                       0  ...  -0.566395        -0.507617         -0.590781   \n",
              "4                       1  ...   0.428142         0.157707          0.003363   \n",
              "\n",
              "   MntGoldProds  NumCatalogPurchases  NumDealsPurchases  NumWebPurchases  \\\n",
              "0      0.866616             2.665107           0.393210         1.489127   \n",
              "1     -0.740103            -0.594517          -0.166264        -1.160791   \n",
              "2     -0.034714            -0.232336          -0.725739         1.489127   \n",
              "3     -0.759697            -0.956697          -0.166264        -0.782232   \n",
              "4     -0.563756             0.129844           1.512159         0.353448   \n",
              "\n",
              "   NumStorePurchases  NumWebVisitsMonth  Cluster_index  \n",
              "0          -0.562736           0.746165              1  \n",
              "1          -1.182374          -0.125705              0  \n",
              "2           1.296179          -0.561640              1  \n",
              "3          -0.562736           0.310230              0  \n",
              "4           0.056903          -0.125705              2  \n",
              "\n",
              "[5 rows x 26 columns]"
            ],
            "text/html": [
              "\n",
              "  <div id=\"df-cd309721-93ed-4f0b-a7c0-d6bf025d8a72\" class=\"colab-df-container\">\n",
              "    <div>\n",
              "<style scoped>\n",
              "    .dataframe tbody tr th:only-of-type {\n",
              "        vertical-align: middle;\n",
              "    }\n",
              "\n",
              "    .dataframe tbody tr th {\n",
              "        vertical-align: top;\n",
              "    }\n",
              "\n",
              "    .dataframe thead th {\n",
              "        text-align: right;\n",
              "    }\n",
              "</style>\n",
              "<table border=\"1\" class=\"dataframe\">\n",
              "  <thead>\n",
              "    <tr style=\"text-align: right;\">\n",
              "      <th></th>\n",
              "      <th>Income</th>\n",
              "      <th>Recency</th>\n",
              "      <th>Age</th>\n",
              "      <th>Total_Children</th>\n",
              "      <th>Complain</th>\n",
              "      <th>Education_Basic</th>\n",
              "      <th>Education_Graduation</th>\n",
              "      <th>Education_Master</th>\n",
              "      <th>Education_PhD</th>\n",
              "      <th>Marital_Status_Married</th>\n",
              "      <th>...</th>\n",
              "      <th>MntFruits</th>\n",
              "      <th>MntFishProducts</th>\n",
              "      <th>MntSweetProducts</th>\n",
              "      <th>MntGoldProds</th>\n",
              "      <th>NumCatalogPurchases</th>\n",
              "      <th>NumDealsPurchases</th>\n",
              "      <th>NumWebPurchases</th>\n",
              "      <th>NumStorePurchases</th>\n",
              "      <th>NumWebVisitsMonth</th>\n",
              "      <th>Cluster_index</th>\n",
              "    </tr>\n",
              "  </thead>\n",
              "  <tbody>\n",
              "    <tr>\n",
              "      <th>0</th>\n",
              "      <td>0.428623</td>\n",
              "      <td>0.310532</td>\n",
              "      <td>0.986443</td>\n",
              "      <td>-1.264803</td>\n",
              "      <td>0</td>\n",
              "      <td>0</td>\n",
              "      <td>1</td>\n",
              "      <td>0</td>\n",
              "      <td>0</td>\n",
              "      <td>0</td>\n",
              "      <td>...</td>\n",
              "      <td>1.575685</td>\n",
              "      <td>2.486338</td>\n",
              "      <td>1.513478</td>\n",
              "      <td>0.866616</td>\n",
              "      <td>2.665107</td>\n",
              "      <td>0.393210</td>\n",
              "      <td>1.489127</td>\n",
              "      <td>-0.562736</td>\n",
              "      <td>0.746165</td>\n",
              "      <td>1</td>\n",
              "    </tr>\n",
              "    <tr>\n",
              "      <th>1</th>\n",
              "      <td>-0.019686</td>\n",
              "      <td>-0.380509</td>\n",
              "      <td>1.236801</td>\n",
              "      <td>1.405806</td>\n",
              "      <td>0</td>\n",
              "      <td>0</td>\n",
              "      <td>1</td>\n",
              "      <td>0</td>\n",
              "      <td>0</td>\n",
              "      <td>0</td>\n",
              "      <td>...</td>\n",
              "      <td>-0.642898</td>\n",
              "      <td>-0.655466</td>\n",
              "      <td>-0.640293</td>\n",
              "      <td>-0.740103</td>\n",
              "      <td>-0.594517</td>\n",
              "      <td>-0.166264</td>\n",
              "      <td>-1.160791</td>\n",
              "      <td>-1.182374</td>\n",
              "      <td>-0.125705</td>\n",
              "      <td>0</td>\n",
              "    </tr>\n",
              "    <tr>\n",
              "      <th>2</th>\n",
              "      <td>0.840808</td>\n",
              "      <td>-0.795134</td>\n",
              "      <td>0.318822</td>\n",
              "      <td>-1.264803</td>\n",
              "      <td>0</td>\n",
              "      <td>0</td>\n",
              "      <td>1</td>\n",
              "      <td>0</td>\n",
              "      <td>0</td>\n",
              "      <td>0</td>\n",
              "      <td>...</td>\n",
              "      <td>0.581148</td>\n",
              "      <td>1.358985</td>\n",
              "      <td>-0.145173</td>\n",
              "      <td>-0.034714</td>\n",
              "      <td>-0.232336</td>\n",
              "      <td>-0.725739</td>\n",
              "      <td>1.489127</td>\n",
              "      <td>1.296179</td>\n",
              "      <td>-0.561640</td>\n",
              "      <td>1</td>\n",
              "    </tr>\n",
              "    <tr>\n",
              "      <th>3</th>\n",
              "      <td>-1.114019</td>\n",
              "      <td>-0.795134</td>\n",
              "      <td>-1.266777</td>\n",
              "      <td>0.070501</td>\n",
              "      <td>0</td>\n",
              "      <td>0</td>\n",
              "      <td>1</td>\n",
              "      <td>0</td>\n",
              "      <td>0</td>\n",
              "      <td>0</td>\n",
              "      <td>...</td>\n",
              "      <td>-0.566395</td>\n",
              "      <td>-0.507617</td>\n",
              "      <td>-0.590781</td>\n",
              "      <td>-0.759697</td>\n",
              "      <td>-0.956697</td>\n",
              "      <td>-0.166264</td>\n",
              "      <td>-0.782232</td>\n",
              "      <td>-0.562736</td>\n",
              "      <td>0.310230</td>\n",
              "      <td>0</td>\n",
              "    </tr>\n",
              "    <tr>\n",
              "      <th>4</th>\n",
              "      <td>0.433888</td>\n",
              "      <td>1.554407</td>\n",
              "      <td>-1.016420</td>\n",
              "      <td>0.070501</td>\n",
              "      <td>0</td>\n",
              "      <td>0</td>\n",
              "      <td>0</td>\n",
              "      <td>0</td>\n",
              "      <td>1</td>\n",
              "      <td>1</td>\n",
              "      <td>...</td>\n",
              "      <td>0.428142</td>\n",
              "      <td>0.157707</td>\n",
              "      <td>0.003363</td>\n",
              "      <td>-0.563756</td>\n",
              "      <td>0.129844</td>\n",
              "      <td>1.512159</td>\n",
              "      <td>0.353448</td>\n",
              "      <td>0.056903</td>\n",
              "      <td>-0.125705</td>\n",
              "      <td>2</td>\n",
              "    </tr>\n",
              "  </tbody>\n",
              "</table>\n",
              "<p>5 rows × 26 columns</p>\n",
              "</div>\n",
              "    <div class=\"colab-df-buttons\">\n",
              "\n",
              "  <div class=\"colab-df-container\">\n",
              "    <button class=\"colab-df-convert\" onclick=\"convertToInteractive('df-cd309721-93ed-4f0b-a7c0-d6bf025d8a72')\"\n",
              "            title=\"Convert this dataframe to an interactive table.\"\n",
              "            style=\"display:none;\">\n",
              "\n",
              "  <svg xmlns=\"http://www.w3.org/2000/svg\" height=\"24px\" viewBox=\"0 -960 960 960\">\n",
              "    <path d=\"M120-120v-720h720v720H120Zm60-500h600v-160H180v160Zm220 220h160v-160H400v160Zm0 220h160v-160H400v160ZM180-400h160v-160H180v160Zm440 0h160v-160H620v160ZM180-180h160v-160H180v160Zm440 0h160v-160H620v160Z\"/>\n",
              "  </svg>\n",
              "    </button>\n",
              "\n",
              "  <style>\n",
              "    .colab-df-container {\n",
              "      display:flex;\n",
              "      gap: 12px;\n",
              "    }\n",
              "\n",
              "    .colab-df-convert {\n",
              "      background-color: #E8F0FE;\n",
              "      border: none;\n",
              "      border-radius: 50%;\n",
              "      cursor: pointer;\n",
              "      display: none;\n",
              "      fill: #1967D2;\n",
              "      height: 32px;\n",
              "      padding: 0 0 0 0;\n",
              "      width: 32px;\n",
              "    }\n",
              "\n",
              "    .colab-df-convert:hover {\n",
              "      background-color: #E2EBFA;\n",
              "      box-shadow: 0px 1px 2px rgba(60, 64, 67, 0.3), 0px 1px 3px 1px rgba(60, 64, 67, 0.15);\n",
              "      fill: #174EA6;\n",
              "    }\n",
              "\n",
              "    .colab-df-buttons div {\n",
              "      margin-bottom: 4px;\n",
              "    }\n",
              "\n",
              "    [theme=dark] .colab-df-convert {\n",
              "      background-color: #3B4455;\n",
              "      fill: #D2E3FC;\n",
              "    }\n",
              "\n",
              "    [theme=dark] .colab-df-convert:hover {\n",
              "      background-color: #434B5C;\n",
              "      box-shadow: 0px 1px 3px 1px rgba(0, 0, 0, 0.15);\n",
              "      filter: drop-shadow(0px 1px 2px rgba(0, 0, 0, 0.3));\n",
              "      fill: #FFFFFF;\n",
              "    }\n",
              "  </style>\n",
              "\n",
              "    <script>\n",
              "      const buttonEl =\n",
              "        document.querySelector('#df-cd309721-93ed-4f0b-a7c0-d6bf025d8a72 button.colab-df-convert');\n",
              "      buttonEl.style.display =\n",
              "        google.colab.kernel.accessAllowed ? 'block' : 'none';\n",
              "\n",
              "      async function convertToInteractive(key) {\n",
              "        const element = document.querySelector('#df-cd309721-93ed-4f0b-a7c0-d6bf025d8a72');\n",
              "        const dataTable =\n",
              "          await google.colab.kernel.invokeFunction('convertToInteractive',\n",
              "                                                    [key], {});\n",
              "        if (!dataTable) return;\n",
              "\n",
              "        const docLinkHtml = 'Like what you see? Visit the ' +\n",
              "          '<a target=\"_blank\" href=https://colab.research.google.com/notebooks/data_table.ipynb>data table notebook</a>'\n",
              "          + ' to learn more about interactive tables.';\n",
              "        element.innerHTML = '';\n",
              "        dataTable['output_type'] = 'display_data';\n",
              "        await google.colab.output.renderOutput(dataTable, element);\n",
              "        const docLink = document.createElement('div');\n",
              "        docLink.innerHTML = docLinkHtml;\n",
              "        element.appendChild(docLink);\n",
              "      }\n",
              "    </script>\n",
              "  </div>\n",
              "\n",
              "\n",
              "    <div id=\"df-5f1b1396-83ab-4f41-b0b5-d23f63e20cf7\">\n",
              "      <button class=\"colab-df-quickchart\" onclick=\"quickchart('df-5f1b1396-83ab-4f41-b0b5-d23f63e20cf7')\"\n",
              "                title=\"Suggest charts\"\n",
              "                style=\"display:none;\">\n",
              "\n",
              "<svg xmlns=\"http://www.w3.org/2000/svg\" height=\"24px\"viewBox=\"0 0 24 24\"\n",
              "     width=\"24px\">\n",
              "    <g>\n",
              "        <path d=\"M19 3H5c-1.1 0-2 .9-2 2v14c0 1.1.9 2 2 2h14c1.1 0 2-.9 2-2V5c0-1.1-.9-2-2-2zM9 17H7v-7h2v7zm4 0h-2V7h2v10zm4 0h-2v-4h2v4z\"/>\n",
              "    </g>\n",
              "</svg>\n",
              "      </button>\n",
              "\n",
              "<style>\n",
              "  .colab-df-quickchart {\n",
              "      --bg-color: #E8F0FE;\n",
              "      --fill-color: #1967D2;\n",
              "      --hover-bg-color: #E2EBFA;\n",
              "      --hover-fill-color: #174EA6;\n",
              "      --disabled-fill-color: #AAA;\n",
              "      --disabled-bg-color: #DDD;\n",
              "  }\n",
              "\n",
              "  [theme=dark] .colab-df-quickchart {\n",
              "      --bg-color: #3B4455;\n",
              "      --fill-color: #D2E3FC;\n",
              "      --hover-bg-color: #434B5C;\n",
              "      --hover-fill-color: #FFFFFF;\n",
              "      --disabled-bg-color: #3B4455;\n",
              "      --disabled-fill-color: #666;\n",
              "  }\n",
              "\n",
              "  .colab-df-quickchart {\n",
              "    background-color: var(--bg-color);\n",
              "    border: none;\n",
              "    border-radius: 50%;\n",
              "    cursor: pointer;\n",
              "    display: none;\n",
              "    fill: var(--fill-color);\n",
              "    height: 32px;\n",
              "    padding: 0;\n",
              "    width: 32px;\n",
              "  }\n",
              "\n",
              "  .colab-df-quickchart:hover {\n",
              "    background-color: var(--hover-bg-color);\n",
              "    box-shadow: 0 1px 2px rgba(60, 64, 67, 0.3), 0 1px 3px 1px rgba(60, 64, 67, 0.15);\n",
              "    fill: var(--button-hover-fill-color);\n",
              "  }\n",
              "\n",
              "  .colab-df-quickchart-complete:disabled,\n",
              "  .colab-df-quickchart-complete:disabled:hover {\n",
              "    background-color: var(--disabled-bg-color);\n",
              "    fill: var(--disabled-fill-color);\n",
              "    box-shadow: none;\n",
              "  }\n",
              "\n",
              "  .colab-df-spinner {\n",
              "    border: 2px solid var(--fill-color);\n",
              "    border-color: transparent;\n",
              "    border-bottom-color: var(--fill-color);\n",
              "    animation:\n",
              "      spin 1s steps(1) infinite;\n",
              "  }\n",
              "\n",
              "  @keyframes spin {\n",
              "    0% {\n",
              "      border-color: transparent;\n",
              "      border-bottom-color: var(--fill-color);\n",
              "      border-left-color: var(--fill-color);\n",
              "    }\n",
              "    20% {\n",
              "      border-color: transparent;\n",
              "      border-left-color: var(--fill-color);\n",
              "      border-top-color: var(--fill-color);\n",
              "    }\n",
              "    30% {\n",
              "      border-color: transparent;\n",
              "      border-left-color: var(--fill-color);\n",
              "      border-top-color: var(--fill-color);\n",
              "      border-right-color: var(--fill-color);\n",
              "    }\n",
              "    40% {\n",
              "      border-color: transparent;\n",
              "      border-right-color: var(--fill-color);\n",
              "      border-top-color: var(--fill-color);\n",
              "    }\n",
              "    60% {\n",
              "      border-color: transparent;\n",
              "      border-right-color: var(--fill-color);\n",
              "    }\n",
              "    80% {\n",
              "      border-color: transparent;\n",
              "      border-right-color: var(--fill-color);\n",
              "      border-bottom-color: var(--fill-color);\n",
              "    }\n",
              "    90% {\n",
              "      border-color: transparent;\n",
              "      border-bottom-color: var(--fill-color);\n",
              "    }\n",
              "  }\n",
              "</style>\n",
              "\n",
              "      <script>\n",
              "        async function quickchart(key) {\n",
              "          const quickchartButtonEl =\n",
              "            document.querySelector('#' + key + ' button');\n",
              "          quickchartButtonEl.disabled = true;  // To prevent multiple clicks.\n",
              "          quickchartButtonEl.classList.add('colab-df-spinner');\n",
              "          try {\n",
              "            const charts = await google.colab.kernel.invokeFunction(\n",
              "                'suggestCharts', [key], {});\n",
              "          } catch (error) {\n",
              "            console.error('Error during call to suggestCharts:', error);\n",
              "          }\n",
              "          quickchartButtonEl.classList.remove('colab-df-spinner');\n",
              "          quickchartButtonEl.classList.add('colab-df-quickchart-complete');\n",
              "        }\n",
              "        (() => {\n",
              "          let quickchartButtonEl =\n",
              "            document.querySelector('#df-5f1b1396-83ab-4f41-b0b5-d23f63e20cf7 button');\n",
              "          quickchartButtonEl.style.display =\n",
              "            google.colab.kernel.accessAllowed ? 'block' : 'none';\n",
              "        })();\n",
              "      </script>\n",
              "    </div>\n",
              "\n",
              "    </div>\n",
              "  </div>\n"
            ],
            "application/vnd.google.colaboratory.intrinsic+json": {
              "type": "dataframe",
              "variable_name": "data"
            }
          },
          "metadata": {},
          "execution_count": 3
        }
      ],
      "execution_count": null
    },
    {
      "metadata": {
        "id": "63c0bc8890b718ea"
      },
      "cell_type": "markdown",
      "source": [
        "## Neural Network Training Strategy\n",
        "---\n",
        "\n",
        "In this project, we follow a structured and practical approach to neural network training and hyperparameter tuning, aligned with real-world industrial practices.\n",
        "\n",
        "### 1. Architecture Search (Core Model Capacity)\n",
        "\n",
        "The first and most critical step is defining the model's **architecture**:\n",
        "- Number of layers (depth)\n",
        "- Number of neurons per layer (width)\n",
        "- Activation functions (ReLU, Tanh, etc.)\n",
        "\n",
        "This step defines the **capacity** of the model — whether it can learn the patterns from data at all.\n",
        "\n",
        "### 2. Optimizer & Learning Rate Tuning (Learning Behavior)\n",
        "\n",
        "Once the architecture is fixed, we tune the **learning behavior**:\n",
        "- Choice of optimizer (SGD, Adam, Nadam, RMSprop, etc.)\n",
        "- Learning rate adjustment\n",
        "\n",
        "The optimizer defines how efficiently the model adjusts weights during training. The learning rate, in particular, has a significant impact on convergence and final performance. This step ensures that the model learns in a stable and effective manner.\n",
        "\n",
        "### 3. Regularization Tuning (Overfitting Control)\n",
        "\n",
        "After establishing a strong baseline, we introduce **regularization methods** to control overfitting:\n",
        "- Dropout layers with different rates\n",
        "- L2 weight regularization (Ridge)\n",
        "\n",
        "These techniques help the model generalize better to unseen data by preventing memorization of training samples.\n",
        "\n",
        "### 4. Batch Size & Epochs (Efficiency Tuning)\n",
        "\n",
        "Finally, we fine-tune **batch size** and **number of epochs**:\n",
        "- Batch size affects training efficiency and gradient stability.\n",
        "- Epochs define how long the model is trained.\n",
        "\n",
        "This step optimizes resource consumption and ensures the model is trained sufficiently without overtraining.\n"
      ],
      "id": "63c0bc8890b718ea"
    },
    {
      "metadata": {
        "id": "66c6e66e6e944ecb"
      },
      "cell_type": "markdown",
      "source": [
        "## Making training features"
      ],
      "id": "66c6e66e6e944ecb"
    },
    {
      "metadata": {
        "ExecuteTime": {
          "end_time": "2025-05-23T09:51:21.666765Z",
          "start_time": "2025-05-23T09:51:21.639838Z"
        },
        "id": "a3beed73246b790e"
      },
      "cell_type": "code",
      "source": [
        "X_train = data.drop(columns=['Cluster_index'])\n",
        "y_train = data['Cluster_index']"
      ],
      "id": "a3beed73246b790e",
      "outputs": [],
      "execution_count": null
    },
    {
      "metadata": {
        "id": "50195012d03de527"
      },
      "cell_type": "markdown",
      "source": [
        "## Universal model function and wrapper"
      ],
      "id": "50195012d03de527"
    },
    {
      "metadata": {
        "id": "553c90417acb317d"
      },
      "cell_type": "markdown",
      "source": [
        "**Main function**"
      ],
      "id": "553c90417acb317d"
    },
    {
      "metadata": {
        "ExecuteTime": {
          "end_time": "2025-05-23T09:51:21.792306Z",
          "start_time": "2025-05-23T09:51:21.775352Z"
        },
        "id": "8716054212b3dc11"
      },
      "cell_type": "code",
      "source": [
        "def create_model(config: dict, input_dim: int):\n",
        "    \"\"\"\n",
        "    Universal model creator that uses only explicitly provided parameters.\n",
        "    Adds regularization and dropout only when present in config.\n",
        "    Uses default optimizer (Adam) and lr if not specified.\n",
        "    \"\"\"\n",
        "\n",
        "    # 1. Necessary parameters\n",
        "    layers = config.get('layers')\n",
        "    activation = config.get('activation')\n",
        "\n",
        "    # 2. If no for first stage, use default\n",
        "    optimizer_name = config.get('optimizer', 'adam')\n",
        "    learning_rate = config.get('lr', 0.001)\n",
        "\n",
        "    opt_map = {'adam': Adam, 'sgd': SGD, 'rmsprop': RMSprop}\n",
        "    optimizer_class = opt_map.get(optimizer_name, Adam)\n",
        "    optimizer = optimizer_class(learning_rate=learning_rate)\n",
        "\n",
        "    # 3. Regularization is optional\n",
        "    kernel_reg = None\n",
        "    if 'l2' in config and config['l2'] > 0:\n",
        "        kernel_reg = regularizers.l2(config['l2'])\n",
        "\n",
        "    dropout_rate = config.get('dropout_rate', None)\n",
        "\n",
        "    # 4. Building the model\n",
        "    model = Sequential()\n",
        "    model.add(Input(shape=(input_dim,)))\n",
        "\n",
        "    # First layer\n",
        "    model.add(Dense(layers[0], activation=activation, kernel_regularizer=kernel_reg))\n",
        "    if dropout_rate is not None and dropout_rate > 0:\n",
        "        model.add(Dropout(dropout_rate))\n",
        "\n",
        "    # Other layers\n",
        "    for units in layers[1:]:\n",
        "        model.add(Dense(units, activation=activation, kernel_regularizer=kernel_reg))\n",
        "        if dropout_rate is not None and dropout_rate > 0:\n",
        "            model.add(Dropout(dropout_rate))\n",
        "\n",
        "    # Out layer\n",
        "    model.add(Dense(3, activation='softmax'))\n",
        "\n",
        "    # Compile\n",
        "    model.compile(optimizer=optimizer,\n",
        "                  loss='sparse_categorical_crossentropy',\n",
        "                  metrics=['accuracy'])\n",
        "\n",
        "    return model\n"
      ],
      "id": "8716054212b3dc11",
      "outputs": [],
      "execution_count": null
    },
    {
      "metadata": {
        "id": "f3055996dd37c46b"
      },
      "cell_type": "markdown",
      "source": [
        "**Training wrapper**"
      ],
      "id": "f3055996dd37c46b"
    },
    {
      "metadata": {
        "ExecuteTime": {
          "end_time": "2025-05-23T09:51:21.996759Z",
          "start_time": "2025-05-23T09:51:21.978808Z"
        },
        "id": "3ca429e2cdbf1556"
      },
      "cell_type": "code",
      "source": [
        "\n",
        "def evaluate_model_cv(X, y, config_grid, create_model_fn, k_folds=5):\n",
        "    \"\"\"\n",
        "    Evaluation function for Keras models using K-Fold CV.\n",
        "    Adds F1-score (macro) alongside val_accuracy.\n",
        "    All training parameters (epochs, batch_size, etc.) must be inside each config.\n",
        "    \"\"\"\n",
        "    kf = KFold(n_splits=k_folds, shuffle=True, random_state=42)\n",
        "    results = []\n",
        "\n",
        "    for config in config_grid:\n",
        "        fold_accuracies = []\n",
        "        fold_f1_scores = []\n",
        "\n",
        "        epochs = config.get('epochs', 30)\n",
        "        batch_size = config.get('batch_size', 32)\n",
        "\n",
        "        for train_idx, val_idx in kf.split(X):\n",
        "            X_tr, X_val = X.iloc[train_idx], X.iloc[val_idx]\n",
        "            y_tr, y_val = y.iloc[train_idx], y.iloc[val_idx]\n",
        "\n",
        "            model = create_model_fn(config)\n",
        "            model.fit(X_tr, y_tr, epochs=epochs, batch_size=batch_size, verbose=0)\n",
        "\n",
        "            # Evaluate accuracy\n",
        "            _, val_accuracy = model.evaluate(X_val, y_val, verbose=0)\n",
        "            fold_accuracies.append(val_accuracy)\n",
        "\n",
        "            # Predict and compute F1\n",
        "            y_pred_probs = model.predict(X_val, verbose=0)\n",
        "            y_pred = np.argmax(y_pred_probs, axis=1)\n",
        "            f1 = f1_score(y_val, y_pred, average='macro')\n",
        "            fold_f1_scores.append(f1)\n",
        "\n",
        "        results.append({\n",
        "            'config': config,\n",
        "            'val_accuracy': np.mean(fold_accuracies),\n",
        "            'f1_macro': np.mean(fold_f1_scores)\n",
        "        })\n",
        "\n",
        "    return pd.DataFrame(results).sort_values(by=['val_accuracy', 'f1_macro'], ascending=False)"
      ],
      "id": "3ca429e2cdbf1556",
      "outputs": [],
      "execution_count": null
    },
    {
      "metadata": {
        "id": "56564edd9ce2ec9f"
      },
      "cell_type": "markdown",
      "source": [
        "## 1. Architecture Search\n",
        "---"
      ],
      "id": "56564edd9ce2ec9f"
    },
    {
      "metadata": {
        "id": "2e9359c0d8ec2bc0"
      },
      "cell_type": "markdown",
      "source": [
        "**Model initialization**"
      ],
      "id": "2e9359c0d8ec2bc0"
    },
    {
      "metadata": {
        "ExecuteTime": {
          "end_time": "2025-05-23T09:51:22.264042Z",
          "start_time": "2025-05-23T09:51:22.244095Z"
        },
        "id": "eb1ab32be4c09a74"
      },
      "cell_type": "code",
      "source": [
        "def create_model_architecture(config):\n",
        "    return create_model(config, input_dim=X_train.shape[1])"
      ],
      "id": "eb1ab32be4c09a74",
      "outputs": [],
      "execution_count": null
    },
    {
      "metadata": {
        "id": "8b781710c02a9852"
      },
      "cell_type": "markdown",
      "source": [
        "**Grid**"
      ],
      "id": "8b781710c02a9852"
    },
    {
      "metadata": {
        "ExecuteTime": {
          "end_time": "2025-05-23T09:51:22.496423Z",
          "start_time": "2025-05-23T09:51:22.478473Z"
        },
        "id": "4470c9a2ed25cd72"
      },
      "cell_type": "code",
      "source": [
        "layer_configs = [\n",
        "    [128],\n",
        "    [128, 64],\n",
        "    [128, 64, 32],\n",
        "    [128, 64, 32, 16]\n",
        "]\n",
        "activations = ['relu', 'tanh', 'elu']\n",
        "fixed_epochs = 30\n",
        "fixed_batch_size = 32\n",
        "\n",
        "architecture_grid = [\n",
        "    {   'epochs': fixed_epochs,\n",
        "        'batch_size': fixed_batch_size,\n",
        "\n",
        "        'layers': layers,\n",
        "        'activation': act,\n",
        "\n",
        "    }\n",
        "    for act in activations\n",
        "    for layers in layer_configs\n",
        "]\n"
      ],
      "id": "4470c9a2ed25cd72",
      "outputs": [],
      "execution_count": null
    },
    {
      "metadata": {
        "id": "844e91c211dc5a71"
      },
      "cell_type": "markdown",
      "source": [
        "**Starting pipeline**"
      ],
      "id": "844e91c211dc5a71"
    },
    {
      "metadata": {
        "ExecuteTime": {
          "end_time": "2025-05-23T09:57:33.484458Z",
          "start_time": "2025-05-23T09:51:22.545293Z"
        },
        "id": "fd6a64d6b281f17e"
      },
      "cell_type": "code",
      "source": [
        "results = evaluate_model_cv(\n",
        "    X=X_train,\n",
        "    y=y_train,\n",
        "    config_grid=architecture_grid,\n",
        "    create_model_fn=create_model_architecture,\n",
        "    k_folds=5\n",
        ")"
      ],
      "id": "fd6a64d6b281f17e",
      "outputs": [],
      "execution_count": null
    },
    {
      "metadata": {
        "id": "cee25bf37e30e1d0"
      },
      "cell_type": "markdown",
      "source": [
        "**Results**"
      ],
      "id": "cee25bf37e30e1d0"
    },
    {
      "metadata": {
        "ExecuteTime": {
          "end_time": "2025-05-23T09:57:33.656543Z",
          "start_time": "2025-05-23T09:57:33.607138Z"
        },
        "colab": {
          "base_uri": "https://localhost:8080/",
          "height": 426
        },
        "id": "d8c662f5041179c1",
        "outputId": "2005592e-7798-4b89-97ac-932b3e33110d"
      },
      "cell_type": "code",
      "source": [
        "df_results = pd.DataFrame(results)\n",
        "df_results = df_results.sort_values(by=['val_accuracy', 'f1_macro'], ascending=False)\n",
        "\n",
        "df_results[['config', 'val_accuracy', 'f1_macro']]"
      ],
      "id": "d8c662f5041179c1",
      "outputs": [
        {
          "output_type": "execute_result",
          "data": {
            "text/plain": [
              "                                               config  val_accuracy  f1_macro\n",
              "0   {'epochs': 30, 'batch_size': 32, 'layers': [12...      0.969315  0.968000\n",
              "11  {'epochs': 30, 'batch_size': 32, 'layers': [12...      0.964801  0.963240\n",
              "1   {'epochs': 30, 'batch_size': 32, 'layers': [12...      0.963901  0.962045\n",
              "9   {'epochs': 30, 'batch_size': 32, 'layers': [12...      0.963895  0.962436\n",
              "4   {'epochs': 30, 'batch_size': 32, 'layers': [12...      0.963446  0.961995\n",
              "3   {'epochs': 30, 'batch_size': 32, 'layers': [12...      0.962999  0.961008\n",
              "8   {'epochs': 30, 'batch_size': 32, 'layers': [12...      0.962544  0.960968\n",
              "2   {'epochs': 30, 'batch_size': 32, 'layers': [12...      0.962544  0.960752\n",
              "5   {'epochs': 30, 'batch_size': 32, 'layers': [12...      0.962094  0.960441\n",
              "10  {'epochs': 30, 'batch_size': 32, 'layers': [12...      0.961191  0.959449\n",
              "6   {'epochs': 30, 'batch_size': 32, 'layers': [12...      0.958485  0.956649\n",
              "7   {'epochs': 30, 'batch_size': 32, 'layers': [12...      0.955772  0.954143"
            ],
            "text/html": [
              "\n",
              "  <div id=\"df-f0634923-7270-449c-98d8-4bd2e7a02eed\" class=\"colab-df-container\">\n",
              "    <div>\n",
              "<style scoped>\n",
              "    .dataframe tbody tr th:only-of-type {\n",
              "        vertical-align: middle;\n",
              "    }\n",
              "\n",
              "    .dataframe tbody tr th {\n",
              "        vertical-align: top;\n",
              "    }\n",
              "\n",
              "    .dataframe thead th {\n",
              "        text-align: right;\n",
              "    }\n",
              "</style>\n",
              "<table border=\"1\" class=\"dataframe\">\n",
              "  <thead>\n",
              "    <tr style=\"text-align: right;\">\n",
              "      <th></th>\n",
              "      <th>config</th>\n",
              "      <th>val_accuracy</th>\n",
              "      <th>f1_macro</th>\n",
              "    </tr>\n",
              "  </thead>\n",
              "  <tbody>\n",
              "    <tr>\n",
              "      <th>0</th>\n",
              "      <td>{'epochs': 30, 'batch_size': 32, 'layers': [12...</td>\n",
              "      <td>0.969315</td>\n",
              "      <td>0.968000</td>\n",
              "    </tr>\n",
              "    <tr>\n",
              "      <th>11</th>\n",
              "      <td>{'epochs': 30, 'batch_size': 32, 'layers': [12...</td>\n",
              "      <td>0.964801</td>\n",
              "      <td>0.963240</td>\n",
              "    </tr>\n",
              "    <tr>\n",
              "      <th>1</th>\n",
              "      <td>{'epochs': 30, 'batch_size': 32, 'layers': [12...</td>\n",
              "      <td>0.963901</td>\n",
              "      <td>0.962045</td>\n",
              "    </tr>\n",
              "    <tr>\n",
              "      <th>9</th>\n",
              "      <td>{'epochs': 30, 'batch_size': 32, 'layers': [12...</td>\n",
              "      <td>0.963895</td>\n",
              "      <td>0.962436</td>\n",
              "    </tr>\n",
              "    <tr>\n",
              "      <th>4</th>\n",
              "      <td>{'epochs': 30, 'batch_size': 32, 'layers': [12...</td>\n",
              "      <td>0.963446</td>\n",
              "      <td>0.961995</td>\n",
              "    </tr>\n",
              "    <tr>\n",
              "      <th>3</th>\n",
              "      <td>{'epochs': 30, 'batch_size': 32, 'layers': [12...</td>\n",
              "      <td>0.962999</td>\n",
              "      <td>0.961008</td>\n",
              "    </tr>\n",
              "    <tr>\n",
              "      <th>8</th>\n",
              "      <td>{'epochs': 30, 'batch_size': 32, 'layers': [12...</td>\n",
              "      <td>0.962544</td>\n",
              "      <td>0.960968</td>\n",
              "    </tr>\n",
              "    <tr>\n",
              "      <th>2</th>\n",
              "      <td>{'epochs': 30, 'batch_size': 32, 'layers': [12...</td>\n",
              "      <td>0.962544</td>\n",
              "      <td>0.960752</td>\n",
              "    </tr>\n",
              "    <tr>\n",
              "      <th>5</th>\n",
              "      <td>{'epochs': 30, 'batch_size': 32, 'layers': [12...</td>\n",
              "      <td>0.962094</td>\n",
              "      <td>0.960441</td>\n",
              "    </tr>\n",
              "    <tr>\n",
              "      <th>10</th>\n",
              "      <td>{'epochs': 30, 'batch_size': 32, 'layers': [12...</td>\n",
              "      <td>0.961191</td>\n",
              "      <td>0.959449</td>\n",
              "    </tr>\n",
              "    <tr>\n",
              "      <th>6</th>\n",
              "      <td>{'epochs': 30, 'batch_size': 32, 'layers': [12...</td>\n",
              "      <td>0.958485</td>\n",
              "      <td>0.956649</td>\n",
              "    </tr>\n",
              "    <tr>\n",
              "      <th>7</th>\n",
              "      <td>{'epochs': 30, 'batch_size': 32, 'layers': [12...</td>\n",
              "      <td>0.955772</td>\n",
              "      <td>0.954143</td>\n",
              "    </tr>\n",
              "  </tbody>\n",
              "</table>\n",
              "</div>\n",
              "    <div class=\"colab-df-buttons\">\n",
              "\n",
              "  <div class=\"colab-df-container\">\n",
              "    <button class=\"colab-df-convert\" onclick=\"convertToInteractive('df-f0634923-7270-449c-98d8-4bd2e7a02eed')\"\n",
              "            title=\"Convert this dataframe to an interactive table.\"\n",
              "            style=\"display:none;\">\n",
              "\n",
              "  <svg xmlns=\"http://www.w3.org/2000/svg\" height=\"24px\" viewBox=\"0 -960 960 960\">\n",
              "    <path d=\"M120-120v-720h720v720H120Zm60-500h600v-160H180v160Zm220 220h160v-160H400v160Zm0 220h160v-160H400v160ZM180-400h160v-160H180v160Zm440 0h160v-160H620v160ZM180-180h160v-160H180v160Zm440 0h160v-160H620v160Z\"/>\n",
              "  </svg>\n",
              "    </button>\n",
              "\n",
              "  <style>\n",
              "    .colab-df-container {\n",
              "      display:flex;\n",
              "      gap: 12px;\n",
              "    }\n",
              "\n",
              "    .colab-df-convert {\n",
              "      background-color: #E8F0FE;\n",
              "      border: none;\n",
              "      border-radius: 50%;\n",
              "      cursor: pointer;\n",
              "      display: none;\n",
              "      fill: #1967D2;\n",
              "      height: 32px;\n",
              "      padding: 0 0 0 0;\n",
              "      width: 32px;\n",
              "    }\n",
              "\n",
              "    .colab-df-convert:hover {\n",
              "      background-color: #E2EBFA;\n",
              "      box-shadow: 0px 1px 2px rgba(60, 64, 67, 0.3), 0px 1px 3px 1px rgba(60, 64, 67, 0.15);\n",
              "      fill: #174EA6;\n",
              "    }\n",
              "\n",
              "    .colab-df-buttons div {\n",
              "      margin-bottom: 4px;\n",
              "    }\n",
              "\n",
              "    [theme=dark] .colab-df-convert {\n",
              "      background-color: #3B4455;\n",
              "      fill: #D2E3FC;\n",
              "    }\n",
              "\n",
              "    [theme=dark] .colab-df-convert:hover {\n",
              "      background-color: #434B5C;\n",
              "      box-shadow: 0px 1px 3px 1px rgba(0, 0, 0, 0.15);\n",
              "      filter: drop-shadow(0px 1px 2px rgba(0, 0, 0, 0.3));\n",
              "      fill: #FFFFFF;\n",
              "    }\n",
              "  </style>\n",
              "\n",
              "    <script>\n",
              "      const buttonEl =\n",
              "        document.querySelector('#df-f0634923-7270-449c-98d8-4bd2e7a02eed button.colab-df-convert');\n",
              "      buttonEl.style.display =\n",
              "        google.colab.kernel.accessAllowed ? 'block' : 'none';\n",
              "\n",
              "      async function convertToInteractive(key) {\n",
              "        const element = document.querySelector('#df-f0634923-7270-449c-98d8-4bd2e7a02eed');\n",
              "        const dataTable =\n",
              "          await google.colab.kernel.invokeFunction('convertToInteractive',\n",
              "                                                    [key], {});\n",
              "        if (!dataTable) return;\n",
              "\n",
              "        const docLinkHtml = 'Like what you see? Visit the ' +\n",
              "          '<a target=\"_blank\" href=https://colab.research.google.com/notebooks/data_table.ipynb>data table notebook</a>'\n",
              "          + ' to learn more about interactive tables.';\n",
              "        element.innerHTML = '';\n",
              "        dataTable['output_type'] = 'display_data';\n",
              "        await google.colab.output.renderOutput(dataTable, element);\n",
              "        const docLink = document.createElement('div');\n",
              "        docLink.innerHTML = docLinkHtml;\n",
              "        element.appendChild(docLink);\n",
              "      }\n",
              "    </script>\n",
              "  </div>\n",
              "\n",
              "\n",
              "    <div id=\"df-9fa19961-822b-417f-b05a-4a758af59967\">\n",
              "      <button class=\"colab-df-quickchart\" onclick=\"quickchart('df-9fa19961-822b-417f-b05a-4a758af59967')\"\n",
              "                title=\"Suggest charts\"\n",
              "                style=\"display:none;\">\n",
              "\n",
              "<svg xmlns=\"http://www.w3.org/2000/svg\" height=\"24px\"viewBox=\"0 0 24 24\"\n",
              "     width=\"24px\">\n",
              "    <g>\n",
              "        <path d=\"M19 3H5c-1.1 0-2 .9-2 2v14c0 1.1.9 2 2 2h14c1.1 0 2-.9 2-2V5c0-1.1-.9-2-2-2zM9 17H7v-7h2v7zm4 0h-2V7h2v10zm4 0h-2v-4h2v4z\"/>\n",
              "    </g>\n",
              "</svg>\n",
              "      </button>\n",
              "\n",
              "<style>\n",
              "  .colab-df-quickchart {\n",
              "      --bg-color: #E8F0FE;\n",
              "      --fill-color: #1967D2;\n",
              "      --hover-bg-color: #E2EBFA;\n",
              "      --hover-fill-color: #174EA6;\n",
              "      --disabled-fill-color: #AAA;\n",
              "      --disabled-bg-color: #DDD;\n",
              "  }\n",
              "\n",
              "  [theme=dark] .colab-df-quickchart {\n",
              "      --bg-color: #3B4455;\n",
              "      --fill-color: #D2E3FC;\n",
              "      --hover-bg-color: #434B5C;\n",
              "      --hover-fill-color: #FFFFFF;\n",
              "      --disabled-bg-color: #3B4455;\n",
              "      --disabled-fill-color: #666;\n",
              "  }\n",
              "\n",
              "  .colab-df-quickchart {\n",
              "    background-color: var(--bg-color);\n",
              "    border: none;\n",
              "    border-radius: 50%;\n",
              "    cursor: pointer;\n",
              "    display: none;\n",
              "    fill: var(--fill-color);\n",
              "    height: 32px;\n",
              "    padding: 0;\n",
              "    width: 32px;\n",
              "  }\n",
              "\n",
              "  .colab-df-quickchart:hover {\n",
              "    background-color: var(--hover-bg-color);\n",
              "    box-shadow: 0 1px 2px rgba(60, 64, 67, 0.3), 0 1px 3px 1px rgba(60, 64, 67, 0.15);\n",
              "    fill: var(--button-hover-fill-color);\n",
              "  }\n",
              "\n",
              "  .colab-df-quickchart-complete:disabled,\n",
              "  .colab-df-quickchart-complete:disabled:hover {\n",
              "    background-color: var(--disabled-bg-color);\n",
              "    fill: var(--disabled-fill-color);\n",
              "    box-shadow: none;\n",
              "  }\n",
              "\n",
              "  .colab-df-spinner {\n",
              "    border: 2px solid var(--fill-color);\n",
              "    border-color: transparent;\n",
              "    border-bottom-color: var(--fill-color);\n",
              "    animation:\n",
              "      spin 1s steps(1) infinite;\n",
              "  }\n",
              "\n",
              "  @keyframes spin {\n",
              "    0% {\n",
              "      border-color: transparent;\n",
              "      border-bottom-color: var(--fill-color);\n",
              "      border-left-color: var(--fill-color);\n",
              "    }\n",
              "    20% {\n",
              "      border-color: transparent;\n",
              "      border-left-color: var(--fill-color);\n",
              "      border-top-color: var(--fill-color);\n",
              "    }\n",
              "    30% {\n",
              "      border-color: transparent;\n",
              "      border-left-color: var(--fill-color);\n",
              "      border-top-color: var(--fill-color);\n",
              "      border-right-color: var(--fill-color);\n",
              "    }\n",
              "    40% {\n",
              "      border-color: transparent;\n",
              "      border-right-color: var(--fill-color);\n",
              "      border-top-color: var(--fill-color);\n",
              "    }\n",
              "    60% {\n",
              "      border-color: transparent;\n",
              "      border-right-color: var(--fill-color);\n",
              "    }\n",
              "    80% {\n",
              "      border-color: transparent;\n",
              "      border-right-color: var(--fill-color);\n",
              "      border-bottom-color: var(--fill-color);\n",
              "    }\n",
              "    90% {\n",
              "      border-color: transparent;\n",
              "      border-bottom-color: var(--fill-color);\n",
              "    }\n",
              "  }\n",
              "</style>\n",
              "\n",
              "      <script>\n",
              "        async function quickchart(key) {\n",
              "          const quickchartButtonEl =\n",
              "            document.querySelector('#' + key + ' button');\n",
              "          quickchartButtonEl.disabled = true;  // To prevent multiple clicks.\n",
              "          quickchartButtonEl.classList.add('colab-df-spinner');\n",
              "          try {\n",
              "            const charts = await google.colab.kernel.invokeFunction(\n",
              "                'suggestCharts', [key], {});\n",
              "          } catch (error) {\n",
              "            console.error('Error during call to suggestCharts:', error);\n",
              "          }\n",
              "          quickchartButtonEl.classList.remove('colab-df-spinner');\n",
              "          quickchartButtonEl.classList.add('colab-df-quickchart-complete');\n",
              "        }\n",
              "        (() => {\n",
              "          let quickchartButtonEl =\n",
              "            document.querySelector('#df-9fa19961-822b-417f-b05a-4a758af59967 button');\n",
              "          quickchartButtonEl.style.display =\n",
              "            google.colab.kernel.accessAllowed ? 'block' : 'none';\n",
              "        })();\n",
              "      </script>\n",
              "    </div>\n",
              "\n",
              "    </div>\n",
              "  </div>\n"
            ],
            "application/vnd.google.colaboratory.intrinsic+json": {
              "type": "dataframe",
              "summary": "{\n  \"name\": \"df_results[['config', 'val_accuracy', 'f1_macro']]\",\n  \"rows\": 12,\n  \"fields\": [\n    {\n      \"column\": \"config\",\n      \"properties\": {\n        \"dtype\": \"object\",\n        \"semantic_type\": \"\",\n        \"description\": \"\"\n      }\n    },\n    {\n      \"column\": \"val_accuracy\",\n      \"properties\": {\n        \"dtype\": \"number\",\n        \"std\": 0.0033025392883128495,\n        \"min\": 0.9557724833488465,\n        \"max\": 0.9693154692649841,\n        \"num_unique_values\": 12,\n        \"samples\": [\n          0.9584853529930115,\n          0.9611910939216614,\n          0.9693154692649841\n        ],\n        \"semantic_type\": \"\",\n        \"description\": \"\"\n      }\n    },\n    {\n      \"column\": \"f1_macro\",\n      \"properties\": {\n        \"dtype\": \"number\",\n        \"std\": 0.0033954185820060166,\n        \"min\": 0.9541433875999645,\n        \"max\": 0.9680000603850548,\n        \"num_unique_values\": 12,\n        \"samples\": [\n          0.9566494216025081,\n          0.9594493015662131,\n          0.9680000603850548\n        ],\n        \"semantic_type\": \"\",\n        \"description\": \"\"\n      }\n    }\n  ]\n}"
            }
          },
          "metadata": {},
          "execution_count": 10
        }
      ],
      "execution_count": null
    },
    {
      "metadata": {
        "ExecuteTime": {
          "end_time": "2025-05-23T09:57:33.827094Z",
          "start_time": "2025-05-23T09:57:33.801164Z"
        },
        "colab": {
          "base_uri": "https://localhost:8080/"
        },
        "id": "25552e7333839ddb",
        "outputId": "2c1f01f4-8932-4057-979f-f33cbba2f1a8"
      },
      "cell_type": "code",
      "source": [
        "best_architecture = df_results.iloc[0]['config']\n",
        "print(\"Best architecture:\", best_architecture)"
      ],
      "id": "25552e7333839ddb",
      "outputs": [
        {
          "output_type": "stream",
          "name": "stdout",
          "text": [
            "Best architecture: {'epochs': 30, 'batch_size': 32, 'layers': [128], 'activation': 'relu'}\n"
          ]
        }
      ],
      "execution_count": null
    },
    {
      "metadata": {
        "id": "132ab4f80bc96072"
      },
      "cell_type": "markdown",
      "source": [
        "**Analysis**"
      ],
      "id": "132ab4f80bc96072"
    },
    {
      "metadata": {
        "ExecuteTime": {
          "end_time": "2025-05-23T09:57:33.982694Z",
          "start_time": "2025-05-23T09:57:33.949768Z"
        },
        "id": "9d9734665bcac5b7"
      },
      "cell_type": "code",
      "source": [
        "import matplotlib.pyplot as plt\n",
        "import seaborn as sns\n",
        "\n",
        "def plot_architecture_heatmaps(df_results, param01='layers', param02='activation'):\n",
        "    \"\"\"\n",
        "    Combined heatmap plot for val_accuracy and f1_macro, grouped by param01 × param02.\n",
        "    \"\"\"\n",
        "\n",
        "    df_expanded = df_results.copy()\n",
        "    df_expanded[param01] = df_expanded['config'].apply(lambda x: str(x[param01]))\n",
        "    df_expanded[param02] = df_expanded['config'].apply(lambda x: x[param02])\n",
        "\n",
        "    # Accuracy\n",
        "    df_acc = df_expanded.groupby([param01, param02])['val_accuracy'].mean().reset_index()\n",
        "    df_acc_pivot = df_acc.pivot(index=param01, columns=param02, values='val_accuracy')\n",
        "\n",
        "    # F1\n",
        "    df_f1 = df_expanded.groupby([param01, param02])['f1_macro'].mean().reset_index()\n",
        "    df_f1_pivot = df_f1.pivot(index=param01, columns=param02, values='f1_macro')\n",
        "\n",
        "    # Plot\n",
        "    fig, axes = plt.subplots(1, 2, figsize=(16, 6))\n",
        "\n",
        "    sns.heatmap(df_acc_pivot, annot=True, fmt=\".4f\", cmap=\"Greens\", ax=axes[0])\n",
        "    axes[0].set_title(\"Validation Accuracy\")\n",
        "    axes[0].set_ylabel(param01)\n",
        "    axes[0].set_xlabel(param02)\n",
        "\n",
        "    sns.heatmap(df_f1_pivot, annot=True, fmt=\".4f\", cmap=\"Greens\", ax=axes[1])\n",
        "    axes[1].set_title(\"Macro F1-score\")\n",
        "    axes[1].set_ylabel(param01)\n",
        "    axes[1].set_xlabel(param02)\n",
        "\n",
        "    plt.tight_layout()\n",
        "    plt.show()\n"
      ],
      "id": "9d9734665bcac5b7",
      "outputs": [],
      "execution_count": null
    },
    {
      "metadata": {
        "ExecuteTime": {
          "end_time": "2025-05-23T09:57:35.315273Z",
          "start_time": "2025-05-23T09:57:34.108438Z"
        },
        "colab": {
          "base_uri": "https://localhost:8080/",
          "height": 416
        },
        "id": "31cab26f07d8f709",
        "outputId": "aebfd534-7689-4c09-b023-b1a068bab77f"
      },
      "cell_type": "code",
      "source": [
        "plot_architecture_heatmaps(df_results, param01='layers', param02='activation')"
      ],
      "id": "31cab26f07d8f709",
      "outputs": [
        {
          "output_type": "display_data",
          "data": {
            "text/plain": [
              "<Figure size 1600x600 with 4 Axes>"
            ],
            "image/png": "[encoded data removed]"
          },
          "metadata": {}
        }
      ],
      "execution_count": null
    },
    {
      "metadata": {
        "id": "caaae2809ea64d86"
      },
      "cell_type": "markdown",
      "source": [
        "## 2. Optimizer & Learning Rate Tuning\n",
        "---"
      ],
      "id": "caaae2809ea64d86"
    },
    {
      "metadata": {
        "id": "b9c8b456492bf330"
      },
      "cell_type": "markdown",
      "source": [
        "**Model initialization**"
      ],
      "id": "b9c8b456492bf330"
    },
    {
      "metadata": {
        "ExecuteTime": {
          "end_time": "2025-05-23T09:57:35.393375Z",
          "start_time": "2025-05-23T09:57:35.366187Z"
        },
        "id": "8064ab985caae930"
      },
      "cell_type": "code",
      "source": [
        "def create_model_optimizer(config):\n",
        "    return create_model(config=config, input_dim=X_train.shape[1])"
      ],
      "id": "8064ab985caae930",
      "outputs": [],
      "execution_count": null
    },
    {
      "metadata": {
        "id": "3ed812342c28cbfb"
      },
      "cell_type": "markdown",
      "source": [
        "**Grid**"
      ],
      "id": "3ed812342c28cbfb"
    },
    {
      "metadata": {
        "ExecuteTime": {
          "end_time": "2025-05-23T09:57:35.471445Z",
          "start_time": "2025-05-23T09:57:35.447278Z"
        },
        "id": "ba87c224707767fa"
      },
      "cell_type": "code",
      "source": [
        "learning_rates = [0.01, 0.005, 0.001, 0.0005]\n",
        "optimizers = ['adam', 'sgd', 'rmsprop']\n",
        "\n",
        "layers = best_architecture['layers']\n",
        "activation = best_architecture['activation']\n",
        "epochs = 30\n",
        "batch_size = 32\n",
        "\n",
        "optimizer_grid = [\n",
        "    {   'layers': layers,\n",
        "        'activation': activation,\n",
        "        'epochs': epochs,\n",
        "        'batch_size': batch_size,\n",
        "\n",
        "        'optimizer': opt,\n",
        "        'lr': lr,\n",
        "    }\n",
        "    for opt in optimizers\n",
        "    for lr in learning_rates\n",
        "]"
      ],
      "id": "ba87c224707767fa",
      "outputs": [],
      "execution_count": null
    },
    {
      "metadata": {
        "id": "47234ee0c3722d86"
      },
      "cell_type": "markdown",
      "source": [
        "**Starting pipeline**"
      ],
      "id": "47234ee0c3722d86"
    },
    {
      "metadata": {
        "ExecuteTime": {
          "end_time": "2025-05-23T10:03:01.332960Z",
          "start_time": "2025-05-23T09:57:35.521313Z"
        },
        "id": "4408fb1eecd46868"
      },
      "cell_type": "code",
      "source": [
        "df_optim_results = evaluate_model_cv(\n",
        "    X=X_train,\n",
        "    y=y_train,\n",
        "    config_grid=optimizer_grid,\n",
        "    create_model_fn=create_model_optimizer,\n",
        "    k_folds=5\n",
        ")"
      ],
      "id": "4408fb1eecd46868",
      "outputs": [],
      "execution_count": null
    },
    {
      "metadata": {
        "id": "fd642e73b03eed55"
      },
      "cell_type": "markdown",
      "source": [
        "**Results**"
      ],
      "id": "fd642e73b03eed55"
    },
    {
      "metadata": {
        "ExecuteTime": {
          "end_time": "2025-05-23T10:03:01.486313Z",
          "start_time": "2025-05-23T10:03:01.440917Z"
        },
        "colab": {
          "base_uri": "https://localhost:8080/",
          "height": 426
        },
        "id": "655b2d20cc37ec93",
        "outputId": "e6726293-c0c6-4a47-bb52-c7c48e5110c2"
      },
      "cell_type": "code",
      "source": [
        "df_optim_results = df_optim_results.sort_values(by=['val_accuracy', 'f1_macro'], ascending=False)\n",
        "\n",
        "df_optim_results[['config', 'val_accuracy', 'f1_macro']]"
      ],
      "id": "655b2d20cc37ec93",
      "outputs": [
        {
          "output_type": "execute_result",
          "data": {
            "text/plain": [
              "                                               config  val_accuracy  f1_macro\n",
              "2   {'layers': [128], 'activation': 'relu', 'epoch...      0.969768  0.968357\n",
              "3   {'layers': [128], 'activation': 'relu', 'epoch...      0.965707  0.964195\n",
              "0   {'layers': [128], 'activation': 'relu', 'epoch...      0.964798  0.962884\n",
              "9   {'layers': [128], 'activation': 'relu', 'epoch...      0.964353  0.962674\n",
              "11  {'layers': [128], 'activation': 'relu', 'epoch...      0.963899  0.962436\n",
              "10  {'layers': [128], 'activation': 'relu', 'epoch...      0.963449  0.961768\n",
              "1   {'layers': [128], 'activation': 'relu', 'epoch...      0.960741  0.958946\n",
              "8   {'layers': [128], 'activation': 'relu', 'epoch...      0.958486  0.956428\n",
              "4   {'layers': [128], 'activation': 'relu', 'epoch...      0.951265  0.949203\n",
              "5   {'layers': [128], 'activation': 'relu', 'epoch...      0.941341  0.938689\n",
              "6   {'layers': [128], 'activation': 'relu', 'epoch...      0.902523  0.895074\n",
              "7   {'layers': [128], 'activation': 'relu', 'epoch...      0.865070  0.849491"
            ],
            "text/html": [
              "\n",
              "  <div id=\"df-44f88199-5730-4619-94d3-8fad23f6e716\" class=\"colab-df-container\">\n",
              "    <div>\n",
              "<style scoped>\n",
              "    .dataframe tbody tr th:only-of-type {\n",
              "        vertical-align: middle;\n",
              "    }\n",
              "\n",
              "    .dataframe tbody tr th {\n",
              "        vertical-align: top;\n",
              "    }\n",
              "\n",
              "    .dataframe thead th {\n",
              "        text-align: right;\n",
              "    }\n",
              "</style>\n",
              "<table border=\"1\" class=\"dataframe\">\n",
              "  <thead>\n",
              "    <tr style=\"text-align: right;\">\n",
              "      <th></th>\n",
              "      <th>config</th>\n",
              "      <th>val_accuracy</th>\n",
              "      <th>f1_macro</th>\n",
              "    </tr>\n",
              "  </thead>\n",
              "  <tbody>\n",
              "    <tr>\n",
              "      <th>2</th>\n",
              "      <td>{'layers': [128], 'activation': 'relu', 'epoch...</td>\n",
              "      <td>0.969768</td>\n",
              "      <td>0.968357</td>\n",
              "    </tr>\n",
              "    <tr>\n",
              "      <th>3</th>\n",
              "      <td>{'layers': [128], 'activation': 'relu', 'epoch...</td>\n",
              "      <td>0.965707</td>\n",
              "      <td>0.964195</td>\n",
              "    </tr>\n",
              "    <tr>\n",
              "      <th>0</th>\n",
              "      <td>{'layers': [128], 'activation': 'relu', 'epoch...</td>\n",
              "      <td>0.964798</td>\n",
              "      <td>0.962884</td>\n",
              "    </tr>\n",
              "    <tr>\n",
              "      <th>9</th>\n",
              "      <td>{'layers': [128], 'activation': 'relu', 'epoch...</td>\n",
              "      <td>0.964353</td>\n",
              "      <td>0.962674</td>\n",
              "    </tr>\n",
              "    <tr>\n",
              "      <th>11</th>\n",
              "      <td>{'layers': [128], 'activation': 'relu', 'epoch...</td>\n",
              "      <td>0.963899</td>\n",
              "      <td>0.962436</td>\n",
              "    </tr>\n",
              "    <tr>\n",
              "      <th>10</th>\n",
              "      <td>{'layers': [128], 'activation': 'relu', 'epoch...</td>\n",
              "      <td>0.963449</td>\n",
              "      <td>0.961768</td>\n",
              "    </tr>\n",
              "    <tr>\n",
              "      <th>1</th>\n",
              "      <td>{'layers': [128], 'activation': 'relu', 'epoch...</td>\n",
              "      <td>0.960741</td>\n",
              "      <td>0.958946</td>\n",
              "    </tr>\n",
              "    <tr>\n",
              "      <th>8</th>\n",
              "      <td>{'layers': [128], 'activation': 'relu', 'epoch...</td>\n",
              "      <td>0.958486</td>\n",
              "      <td>0.956428</td>\n",
              "    </tr>\n",
              "    <tr>\n",
              "      <th>4</th>\n",
              "      <td>{'layers': [128], 'activation': 'relu', 'epoch...</td>\n",
              "      <td>0.951265</td>\n",
              "      <td>0.949203</td>\n",
              "    </tr>\n",
              "    <tr>\n",
              "      <th>5</th>\n",
              "      <td>{'layers': [128], 'activation': 'relu', 'epoch...</td>\n",
              "      <td>0.941341</td>\n",
              "      <td>0.938689</td>\n",
              "    </tr>\n",
              "    <tr>\n",
              "      <th>6</th>\n",
              "      <td>{'layers': [128], 'activation': 'relu', 'epoch...</td>\n",
              "      <td>0.902523</td>\n",
              "      <td>0.895074</td>\n",
              "    </tr>\n",
              "    <tr>\n",
              "      <th>7</th>\n",
              "      <td>{'layers': [128], 'activation': 'relu', 'epoch...</td>\n",
              "      <td>0.865070</td>\n",
              "      <td>0.849491</td>\n",
              "    </tr>\n",
              "  </tbody>\n",
              "</table>\n",
              "</div>\n",
              "    <div class=\"colab-df-buttons\">\n",
              "\n",
              "  <div class=\"colab-df-container\">\n",
              "    <button class=\"colab-df-convert\" onclick=\"convertToInteractive('df-44f88199-5730-4619-94d3-8fad23f6e716')\"\n",
              "            title=\"Convert this dataframe to an interactive table.\"\n",
              "            style=\"display:none;\">\n",
              "\n",
              "  <svg xmlns=\"http://www.w3.org/2000/svg\" height=\"24px\" viewBox=\"0 -960 960 960\">\n",
              "    <path d=\"M120-120v-720h720v720H120Zm60-500h600v-160H180v160Zm220 220h160v-160H400v160Zm0 220h160v-160H400v160ZM180-400h160v-160H180v160Zm440 0h160v-160H620v160ZM180-180h160v-160H180v160Zm440 0h160v-160H620v160Z\"/>\n",
              "  </svg>\n",
              "    </button>\n",
              "\n",
              "  <style>\n",
              "    .colab-df-container {\n",
              "      display:flex;\n",
              "      gap: 12px;\n",
              "    }\n",
              "\n",
              "    .colab-df-convert {\n",
              "      background-color: #E8F0FE;\n",
              "      border: none;\n",
              "      border-radius: 50%;\n",
              "      cursor: pointer;\n",
              "      display: none;\n",
              "      fill: #1967D2;\n",
              "      height: 32px;\n",
              "      padding: 0 0 0 0;\n",
              "      width: 32px;\n",
              "    }\n",
              "\n",
              "    .colab-df-convert:hover {\n",
              "      background-color: #E2EBFA;\n",
              "      box-shadow: 0px 1px 2px rgba(60, 64, 67, 0.3), 0px 1px 3px 1px rgba(60, 64, 67, 0.15);\n",
              "      fill: #174EA6;\n",
              "    }\n",
              "\n",
              "    .colab-df-buttons div {\n",
              "      margin-bottom: 4px;\n",
              "    }\n",
              "\n",
              "    [theme=dark] .colab-df-convert {\n",
              "      background-color: #3B4455;\n",
              "      fill: #D2E3FC;\n",
              "    }\n",
              "\n",
              "    [theme=dark] .colab-df-convert:hover {\n",
              "      background-color: #434B5C;\n",
              "      box-shadow: 0px 1px 3px 1px rgba(0, 0, 0, 0.15);\n",
              "      filter: drop-shadow(0px 1px 2px rgba(0, 0, 0, 0.3));\n",
              "      fill: #FFFFFF;\n",
              "    }\n",
              "  </style>\n",
              "\n",
              "    <script>\n",
              "      const buttonEl =\n",
              "        document.querySelector('#df-44f88199-5730-4619-94d3-8fad23f6e716 button.colab-df-convert');\n",
              "      buttonEl.style.display =\n",
              "        google.colab.kernel.accessAllowed ? 'block' : 'none';\n",
              "\n",
              "      async function convertToInteractive(key) {\n",
              "        const element = document.querySelector('#df-44f88199-5730-4619-94d3-8fad23f6e716');\n",
              "        const dataTable =\n",
              "          await google.colab.kernel.invokeFunction('convertToInteractive',\n",
              "                                                    [key], {});\n",
              "        if (!dataTable) return;\n",
              "\n",
              "        const docLinkHtml = 'Like what you see? Visit the ' +\n",
              "          '<a target=\"_blank\" href=https://colab.research.google.com/notebooks/data_table.ipynb>data table notebook</a>'\n",
              "          + ' to learn more about interactive tables.';\n",
              "        element.innerHTML = '';\n",
              "        dataTable['output_type'] = 'display_data';\n",
              "        await google.colab.output.renderOutput(dataTable, element);\n",
              "        const docLink = document.createElement('div');\n",
              "        docLink.innerHTML = docLinkHtml;\n",
              "        element.appendChild(docLink);\n",
              "      }\n",
              "    </script>\n",
              "  </div>\n",
              "\n",
              "\n",
              "    <div id=\"df-bb856e03-5c64-4af0-98e3-8dbc6c21f481\">\n",
              "      <button class=\"colab-df-quickchart\" onclick=\"quickchart('df-bb856e03-5c64-4af0-98e3-8dbc6c21f481')\"\n",
              "                title=\"Suggest charts\"\n",
              "                style=\"display:none;\">\n",
              "\n",
              "<svg xmlns=\"http://www.w3.org/2000/svg\" height=\"24px\"viewBox=\"0 0 24 24\"\n",
              "     width=\"24px\">\n",
              "    <g>\n",
              "        <path d=\"M19 3H5c-1.1 0-2 .9-2 2v14c0 1.1.9 2 2 2h14c1.1 0 2-.9 2-2V5c0-1.1-.9-2-2-2zM9 17H7v-7h2v7zm4 0h-2V7h2v10zm4 0h-2v-4h2v4z\"/>\n",
              "    </g>\n",
              "</svg>\n",
              "      </button>\n",
              "\n",
              "<style>\n",
              "  .colab-df-quickchart {\n",
              "      --bg-color: #E8F0FE;\n",
              "      --fill-color: #1967D2;\n",
              "      --hover-bg-color: #E2EBFA;\n",
              "      --hover-fill-color: #174EA6;\n",
              "      --disabled-fill-color: #AAA;\n",
              "      --disabled-bg-color: #DDD;\n",
              "  }\n",
              "\n",
              "  [theme=dark] .colab-df-quickchart {\n",
              "      --bg-color: #3B4455;\n",
              "      --fill-color: #D2E3FC;\n",
              "      --hover-bg-color: #434B5C;\n",
              "      --hover-fill-color: #FFFFFF;\n",
              "      --disabled-bg-color: #3B4455;\n",
              "      --disabled-fill-color: #666;\n",
              "  }\n",
              "\n",
              "  .colab-df-quickchart {\n",
              "    background-color: var(--bg-color);\n",
              "    border: none;\n",
              "    border-radius: 50%;\n",
              "    cursor: pointer;\n",
              "    display: none;\n",
              "    fill: var(--fill-color);\n",
              "    height: 32px;\n",
              "    padding: 0;\n",
              "    width: 32px;\n",
              "  }\n",
              "\n",
              "  .colab-df-quickchart:hover {\n",
              "    background-color: var(--hover-bg-color);\n",
              "    box-shadow: 0 1px 2px rgba(60, 64, 67, 0.3), 0 1px 3px 1px rgba(60, 64, 67, 0.15);\n",
              "    fill: var(--button-hover-fill-color);\n",
              "  }\n",
              "\n",
              "  .colab-df-quickchart-complete:disabled,\n",
              "  .colab-df-quickchart-complete:disabled:hover {\n",
              "    background-color: var(--disabled-bg-color);\n",
              "    fill: var(--disabled-fill-color);\n",
              "    box-shadow: none;\n",
              "  }\n",
              "\n",
              "  .colab-df-spinner {\n",
              "    border: 2px solid var(--fill-color);\n",
              "    border-color: transparent;\n",
              "    border-bottom-color: var(--fill-color);\n",
              "    animation:\n",
              "      spin 1s steps(1) infinite;\n",
              "  }\n",
              "\n",
              "  @keyframes spin {\n",
              "    0% {\n",
              "      border-color: transparent;\n",
              "      border-bottom-color: var(--fill-color);\n",
              "      border-left-color: var(--fill-color);\n",
              "    }\n",
              "    20% {\n",
              "      border-color: transparent;\n",
              "      border-left-color: var(--fill-color);\n",
              "      border-top-color: var(--fill-color);\n",
              "    }\n",
              "    30% {\n",
              "      border-color: transparent;\n",
              "      border-left-color: var(--fill-color);\n",
              "      border-top-color: var(--fill-color);\n",
              "      border-right-color: var(--fill-color);\n",
              "    }\n",
              "    40% {\n",
              "      border-color: transparent;\n",
              "      border-right-color: var(--fill-color);\n",
              "      border-top-color: var(--fill-color);\n",
              "    }\n",
              "    60% {\n",
              "      border-color: transparent;\n",
              "      border-right-color: var(--fill-color);\n",
              "    }\n",
              "    80% {\n",
              "      border-color: transparent;\n",
              "      border-right-color: var(--fill-color);\n",
              "      border-bottom-color: var(--fill-color);\n",
              "    }\n",
              "    90% {\n",
              "      border-color: transparent;\n",
              "      border-bottom-color: var(--fill-color);\n",
              "    }\n",
              "  }\n",
              "</style>\n",
              "\n",
              "      <script>\n",
              "        async function quickchart(key) {\n",
              "          const quickchartButtonEl =\n",
              "            document.querySelector('#' + key + ' button');\n",
              "          quickchartButtonEl.disabled = true;  // To prevent multiple clicks.\n",
              "          quickchartButtonEl.classList.add('colab-df-spinner');\n",
              "          try {\n",
              "            const charts = await google.colab.kernel.invokeFunction(\n",
              "                'suggestCharts', [key], {});\n",
              "          } catch (error) {\n",
              "            console.error('Error during call to suggestCharts:', error);\n",
              "          }\n",
              "          quickchartButtonEl.classList.remove('colab-df-spinner');\n",
              "          quickchartButtonEl.classList.add('colab-df-quickchart-complete');\n",
              "        }\n",
              "        (() => {\n",
              "          let quickchartButtonEl =\n",
              "            document.querySelector('#df-bb856e03-5c64-4af0-98e3-8dbc6c21f481 button');\n",
              "          quickchartButtonEl.style.display =\n",
              "            google.colab.kernel.accessAllowed ? 'block' : 'none';\n",
              "        })();\n",
              "      </script>\n",
              "    </div>\n",
              "\n",
              "    </div>\n",
              "  </div>\n"
            ],
            "application/vnd.google.colaboratory.intrinsic+json": {
              "type": "dataframe",
              "summary": "{\n  \"name\": \"df_optim_results[['config', 'val_accuracy', 'f1_macro']]\",\n  \"rows\": 12,\n  \"fields\": [\n    {\n      \"column\": \"config\",\n      \"properties\": {\n        \"dtype\": \"object\",\n        \"semantic_type\": \"\",\n        \"description\": \"\"\n      }\n    },\n    {\n      \"column\": \"val_accuracy\",\n      \"properties\": {\n        \"dtype\": \"number\",\n        \"std\": 0.03176545933679414,\n        \"min\": 0.8650702595710754,\n        \"max\": 0.969767963886261,\n        \"num_unique_values\": 12,\n        \"samples\": [\n          0.9025227189064026,\n          0.9413407683372498,\n          0.969767963886261\n        ],\n        \"semantic_type\": \"\",\n        \"description\": \"\"\n      }\n    },\n    {\n      \"column\": \"f1_macro\",\n      \"properties\": {\n        \"dtype\": \"number\",\n        \"std\": 0.03582839976620424,\n        \"min\": 0.8494908256667607,\n        \"max\": 0.968356962557414,\n        \"num_unique_values\": 12,\n        \"samples\": [\n          0.8950741944709547,\n          0.93868910537101,\n          0.968356962557414\n        ],\n        \"semantic_type\": \"\",\n        \"description\": \"\"\n      }\n    }\n  ]\n}"
            }
          },
          "metadata": {},
          "execution_count": 17
        }
      ],
      "execution_count": null
    },
    {
      "metadata": {
        "ExecuteTime": {
          "end_time": "2025-05-23T10:03:01.631614Z",
          "start_time": "2025-05-23T10:03:01.605009Z"
        },
        "colab": {
          "base_uri": "https://localhost:8080/"
        },
        "id": "cfb950a78b13d4c3",
        "outputId": "a146c757-bf4e-4a87-eaf1-a2dac48b71aa"
      },
      "cell_type": "code",
      "source": [
        "best_optimizer_config = df_optim_results.iloc[0]['config']\n",
        "print(\"Best optimizer config:\", best_optimizer_config)"
      ],
      "id": "cfb950a78b13d4c3",
      "outputs": [
        {
          "output_type": "stream",
          "name": "stdout",
          "text": [
            "Best optimizer config: {'layers': [128], 'activation': 'relu', 'epochs': 30, 'batch_size': 32, 'optimizer': 'adam', 'lr': 0.001}\n"
          ]
        }
      ],
      "execution_count": null
    },
    {
      "metadata": {
        "id": "1a6e73fe96b6f9df"
      },
      "cell_type": "markdown",
      "source": [
        "**Analysis**"
      ],
      "id": "1a6e73fe96b6f9df"
    },
    {
      "metadata": {
        "ExecuteTime": {
          "end_time": "2025-05-23T10:03:02.783916Z",
          "start_time": "2025-05-23T10:03:01.803865Z"
        },
        "colab": {
          "base_uri": "https://localhost:8080/",
          "height": 418
        },
        "id": "d84f1c965f253c6a",
        "outputId": "618e5f93-acf9-4591-be53-ffa0ab965ca6"
      },
      "cell_type": "code",
      "source": [
        "plot_architecture_heatmaps(df_optim_results, param01='optimizer', param02='lr')"
      ],
      "id": "d84f1c965f253c6a",
      "outputs": [
        {
          "output_type": "display_data",
          "data": {
            "text/plain": [
              "<Figure size 1600x600 with 4 Axes>"
            ],
            "image/png": "[encoded data removed]"
          },
          "metadata": {}
        }
      ],
      "execution_count": null
    },
    {
      "metadata": {
        "id": "287f7657ac8f6ed0"
      },
      "cell_type": "markdown",
      "source": [
        "## 3. Regularization Tuning (Overfitting Control)\n",
        "---"
      ],
      "id": "287f7657ac8f6ed0"
    },
    {
      "metadata": {
        "id": "7300deb8b9d3fcb"
      },
      "cell_type": "markdown",
      "source": [
        "**Model initialization**"
      ],
      "id": "7300deb8b9d3fcb"
    },
    {
      "metadata": {
        "ExecuteTime": {
          "end_time": "2025-05-23T10:03:02.891206Z",
          "start_time": "2025-05-23T10:03:02.855892Z"
        },
        "id": "79f5120ea258180c"
      },
      "cell_type": "code",
      "source": [
        "def create_model_regularized(config):\n",
        "    return create_model(config=config, input_dim=X_train.shape[1])"
      ],
      "id": "79f5120ea258180c",
      "outputs": [],
      "execution_count": null
    },
    {
      "metadata": {
        "id": "df092c1558b10dcf"
      },
      "cell_type": "markdown",
      "source": [
        "**Grid**"
      ],
      "id": "df092c1558b10dcf"
    },
    {
      "metadata": {
        "ExecuteTime": {
          "end_time": "2025-05-23T10:03:02.953311Z",
          "start_time": "2025-05-23T10:03:02.928382Z"
        },
        "id": "45cb062ea8f56360"
      },
      "cell_type": "code",
      "source": [
        "dropout_rates = [0.0, 0.3, 0.5]\n",
        "l2_values = [0.0, 0.001, 0.01]\n",
        "\n",
        "epochs = 30\n",
        "batch_size = 32\n",
        "layers = best_architecture['layers']\n",
        "activation = best_architecture['activation']\n",
        "optimizer = best_optimizer_config['optimizer']\n",
        "lr = best_optimizer_config['lr']\n",
        "\n",
        "regularization_grid = [\n",
        "    {\n",
        "        'layers': layers,\n",
        "        'activation': activation,\n",
        "        'optimizer': optimizer,\n",
        "        'lr': lr,\n",
        "        'epochs': epochs,\n",
        "        'batch_size': batch_size,\n",
        "\n",
        "        'dropout_rate': d,\n",
        "        'l2': l2,\n",
        "    }\n",
        "    for d in dropout_rates\n",
        "    for l2 in l2_values\n",
        "]"
      ],
      "id": "45cb062ea8f56360",
      "outputs": [],
      "execution_count": null
    },
    {
      "metadata": {
        "id": "aafad0519ea8b6cd"
      },
      "cell_type": "markdown",
      "source": [
        "**Starting training**"
      ],
      "id": "aafad0519ea8b6cd"
    },
    {
      "metadata": {
        "ExecuteTime": {
          "end_time": "2025-05-23T10:07:15.599281Z",
          "start_time": "2025-05-23T10:03:02.998325Z"
        },
        "id": "da0553c5fd9adf01"
      },
      "cell_type": "code",
      "source": [
        "df_reg_results = evaluate_model_cv(\n",
        "    X=X_train,\n",
        "    y=y_train,\n",
        "    config_grid=regularization_grid,\n",
        "    create_model_fn=create_model_regularized,\n",
        "    k_folds=5\n",
        ")"
      ],
      "id": "da0553c5fd9adf01",
      "outputs": [],
      "execution_count": null
    },
    {
      "metadata": {
        "id": "b24a30c9409ab8e3"
      },
      "cell_type": "markdown",
      "source": [
        "**Results**"
      ],
      "id": "b24a30c9409ab8e3"
    },
    {
      "metadata": {
        "ExecuteTime": {
          "end_time": "2025-05-23T10:07:15.789395Z",
          "start_time": "2025-05-23T10:07:15.733693Z"
        },
        "colab": {
          "base_uri": "https://localhost:8080/",
          "height": 332
        },
        "id": "a1eca0f826e6d5d4",
        "outputId": "cd54b411-28c0-4bca-811c-b42263bc68e8"
      },
      "cell_type": "code",
      "source": [
        "df_reg_results = df_reg_results.sort_values(by=['val_accuracy', 'f1_macro'], ascending=False)\n",
        "\n",
        "df_reg_results[['config', 'val_accuracy', 'f1_macro']]"
      ],
      "id": "a1eca0f826e6d5d4",
      "outputs": [
        {
          "output_type": "execute_result",
          "data": {
            "text/plain": [
              "                                              config  val_accuracy  f1_macro\n",
              "1  {'layers': [128], 'activation': 'relu', 'optim...      0.969767  0.968564\n",
              "0  {'layers': [128], 'activation': 'relu', 'optim...      0.967512  0.966080\n",
              "4  {'layers': [128], 'activation': 'relu', 'optim...      0.967059  0.965672\n",
              "3  {'layers': [128], 'activation': 'relu', 'optim...      0.967059  0.965583\n",
              "6  {'layers': [128], 'activation': 'relu', 'optim...      0.966608  0.965112\n",
              "7  {'layers': [128], 'activation': 'relu', 'optim...      0.965706  0.964092\n",
              "8  {'layers': [128], 'activation': 'relu', 'optim...      0.964353  0.962769\n",
              "2  {'layers': [128], 'activation': 'relu', 'optim...      0.961192  0.959498\n",
              "5  {'layers': [128], 'activation': 'relu', 'optim...      0.959841  0.957951"
            ],
            "text/html": [
              "\n",
              "  <div id=\"df-bec301a5-7bf4-4c23-bbd9-012a0d90a600\" class=\"colab-df-container\">\n",
              "    <div>\n",
              "<style scoped>\n",
              "    .dataframe tbody tr th:only-of-type {\n",
              "        vertical-align: middle;\n",
              "    }\n",
              "\n",
              "    .dataframe tbody tr th {\n",
              "        vertical-align: top;\n",
              "    }\n",
              "\n",
              "    .dataframe thead th {\n",
              "        text-align: right;\n",
              "    }\n",
              "</style>\n",
              "<table border=\"1\" class=\"dataframe\">\n",
              "  <thead>\n",
              "    <tr style=\"text-align: right;\">\n",
              "      <th></th>\n",
              "      <th>config</th>\n",
              "      <th>val_accuracy</th>\n",
              "      <th>f1_macro</th>\n",
              "    </tr>\n",
              "  </thead>\n",
              "  <tbody>\n",
              "    <tr>\n",
              "      <th>1</th>\n",
              "      <td>{'layers': [128], 'activation': 'relu', 'optim...</td>\n",
              "      <td>0.969767</td>\n",
              "      <td>0.968564</td>\n",
              "    </tr>\n",
              "    <tr>\n",
              "      <th>0</th>\n",
              "      <td>{'layers': [128], 'activation': 'relu', 'optim...</td>\n",
              "      <td>0.967512</td>\n",
              "      <td>0.966080</td>\n",
              "    </tr>\n",
              "    <tr>\n",
              "      <th>4</th>\n",
              "      <td>{'layers': [128], 'activation': 'relu', 'optim...</td>\n",
              "      <td>0.967059</td>\n",
              "      <td>0.965672</td>\n",
              "    </tr>\n",
              "    <tr>\n",
              "      <th>3</th>\n",
              "      <td>{'layers': [128], 'activation': 'relu', 'optim...</td>\n",
              "      <td>0.967059</td>\n",
              "      <td>0.965583</td>\n",
              "    </tr>\n",
              "    <tr>\n",
              "      <th>6</th>\n",
              "      <td>{'layers': [128], 'activation': 'relu', 'optim...</td>\n",
              "      <td>0.966608</td>\n",
              "      <td>0.965112</td>\n",
              "    </tr>\n",
              "    <tr>\n",
              "      <th>7</th>\n",
              "      <td>{'layers': [128], 'activation': 'relu', 'optim...</td>\n",
              "      <td>0.965706</td>\n",
              "      <td>0.964092</td>\n",
              "    </tr>\n",
              "    <tr>\n",
              "      <th>8</th>\n",
              "      <td>{'layers': [128], 'activation': 'relu', 'optim...</td>\n",
              "      <td>0.964353</td>\n",
              "      <td>0.962769</td>\n",
              "    </tr>\n",
              "    <tr>\n",
              "      <th>2</th>\n",
              "      <td>{'layers': [128], 'activation': 'relu', 'optim...</td>\n",
              "      <td>0.961192</td>\n",
              "      <td>0.959498</td>\n",
              "    </tr>\n",
              "    <tr>\n",
              "      <th>5</th>\n",
              "      <td>{'layers': [128], 'activation': 'relu', 'optim...</td>\n",
              "      <td>0.959841</td>\n",
              "      <td>0.957951</td>\n",
              "    </tr>\n",
              "  </tbody>\n",
              "</table>\n",
              "</div>\n",
              "    <div class=\"colab-df-buttons\">\n",
              "\n",
              "  <div class=\"colab-df-container\">\n",
              "    <button class=\"colab-df-convert\" onclick=\"convertToInteractive('df-bec301a5-7bf4-4c23-bbd9-012a0d90a600')\"\n",
              "            title=\"Convert this dataframe to an interactive table.\"\n",
              "            style=\"display:none;\">\n",
              "\n",
              "  <svg xmlns=\"http://www.w3.org/2000/svg\" height=\"24px\" viewBox=\"0 -960 960 960\">\n",
              "    <path d=\"M120-120v-720h720v720H120Zm60-500h600v-160H180v160Zm220 220h160v-160H400v160Zm0 220h160v-160H400v160ZM180-400h160v-160H180v160Zm440 0h160v-160H620v160ZM180-180h160v-160H180v160Zm440 0h160v-160H620v160Z\"/>\n",
              "  </svg>\n",
              "    </button>\n",
              "\n",
              "  <style>\n",
              "    .colab-df-container {\n",
              "      display:flex;\n",
              "      gap: 12px;\n",
              "    }\n",
              "\n",
              "    .colab-df-convert {\n",
              "      background-color: #E8F0FE;\n",
              "      border: none;\n",
              "      border-radius: 50%;\n",
              "      cursor: pointer;\n",
              "      display: none;\n",
              "      fill: #1967D2;\n",
              "      height: 32px;\n",
              "      padding: 0 0 0 0;\n",
              "      width: 32px;\n",
              "    }\n",
              "\n",
              "    .colab-df-convert:hover {\n",
              "      background-color: #E2EBFA;\n",
              "      box-shadow: 0px 1px 2px rgba(60, 64, 67, 0.3), 0px 1px 3px 1px rgba(60, 64, 67, 0.15);\n",
              "      fill: #174EA6;\n",
              "    }\n",
              "\n",
              "    .colab-df-buttons div {\n",
              "      margin-bottom: 4px;\n",
              "    }\n",
              "\n",
              "    [theme=dark] .colab-df-convert {\n",
              "      background-color: #3B4455;\n",
              "      fill: #D2E3FC;\n",
              "    }\n",
              "\n",
              "    [theme=dark] .colab-df-convert:hover {\n",
              "      background-color: #434B5C;\n",
              "      box-shadow: 0px 1px 3px 1px rgba(0, 0, 0, 0.15);\n",
              "      filter: drop-shadow(0px 1px 2px rgba(0, 0, 0, 0.3));\n",
              "      fill: #FFFFFF;\n",
              "    }\n",
              "  </style>\n",
              "\n",
              "    <script>\n",
              "      const buttonEl =\n",
              "        document.querySelector('#df-bec301a5-7bf4-4c23-bbd9-012a0d90a600 button.colab-df-convert');\n",
              "      buttonEl.style.display =\n",
              "        google.colab.kernel.accessAllowed ? 'block' : 'none';\n",
              "\n",
              "      async function convertToInteractive(key) {\n",
              "        const element = document.querySelector('#df-bec301a5-7bf4-4c23-bbd9-012a0d90a600');\n",
              "        const dataTable =\n",
              "          await google.colab.kernel.invokeFunction('convertToInteractive',\n",
              "                                                    [key], {});\n",
              "        if (!dataTable) return;\n",
              "\n",
              "        const docLinkHtml = 'Like what you see? Visit the ' +\n",
              "          '<a target=\"_blank\" href=https://colab.research.google.com/notebooks/data_table.ipynb>data table notebook</a>'\n",
              "          + ' to learn more about interactive tables.';\n",
              "        element.innerHTML = '';\n",
              "        dataTable['output_type'] = 'display_data';\n",
              "        await google.colab.output.renderOutput(dataTable, element);\n",
              "        const docLink = document.createElement('div');\n",
              "        docLink.innerHTML = docLinkHtml;\n",
              "        element.appendChild(docLink);\n",
              "      }\n",
              "    </script>\n",
              "  </div>\n",
              "\n",
              "\n",
              "    <div id=\"df-a482576e-75af-4bec-80a1-6a397f4480e2\">\n",
              "      <button class=\"colab-df-quickchart\" onclick=\"quickchart('df-a482576e-75af-4bec-80a1-6a397f4480e2')\"\n",
              "                title=\"Suggest charts\"\n",
              "                style=\"display:none;\">\n",
              "\n",
              "<svg xmlns=\"http://www.w3.org/2000/svg\" height=\"24px\"viewBox=\"0 0 24 24\"\n",
              "     width=\"24px\">\n",
              "    <g>\n",
              "        <path d=\"M19 3H5c-1.1 0-2 .9-2 2v14c0 1.1.9 2 2 2h14c1.1 0 2-.9 2-2V5c0-1.1-.9-2-2-2zM9 17H7v-7h2v7zm4 0h-2V7h2v10zm4 0h-2v-4h2v4z\"/>\n",
              "    </g>\n",
              "</svg>\n",
              "      </button>\n",
              "\n",
              "<style>\n",
              "  .colab-df-quickchart {\n",
              "      --bg-color: #E8F0FE;\n",
              "      --fill-color: #1967D2;\n",
              "      --hover-bg-color: #E2EBFA;\n",
              "      --hover-fill-color: #174EA6;\n",
              "      --disabled-fill-color: #AAA;\n",
              "      --disabled-bg-color: #DDD;\n",
              "  }\n",
              "\n",
              "  [theme=dark] .colab-df-quickchart {\n",
              "      --bg-color: #3B4455;\n",
              "      --fill-color: #D2E3FC;\n",
              "      --hover-bg-color: #434B5C;\n",
              "      --hover-fill-color: #FFFFFF;\n",
              "      --disabled-bg-color: #3B4455;\n",
              "      --disabled-fill-color: #666;\n",
              "  }\n",
              "\n",
              "  .colab-df-quickchart {\n",
              "    background-color: var(--bg-color);\n",
              "    border: none;\n",
              "    border-radius: 50%;\n",
              "    cursor: pointer;\n",
              "    display: none;\n",
              "    fill: var(--fill-color);\n",
              "    height: 32px;\n",
              "    padding: 0;\n",
              "    width: 32px;\n",
              "  }\n",
              "\n",
              "  .colab-df-quickchart:hover {\n",
              "    background-color: var(--hover-bg-color);\n",
              "    box-shadow: 0 1px 2px rgba(60, 64, 67, 0.3), 0 1px 3px 1px rgba(60, 64, 67, 0.15);\n",
              "    fill: var(--button-hover-fill-color);\n",
              "  }\n",
              "\n",
              "  .colab-df-quickchart-complete:disabled,\n",
              "  .colab-df-quickchart-complete:disabled:hover {\n",
              "    background-color: var(--disabled-bg-color);\n",
              "    fill: var(--disabled-fill-color);\n",
              "    box-shadow: none;\n",
              "  }\n",
              "\n",
              "  .colab-df-spinner {\n",
              "    border: 2px solid var(--fill-color);\n",
              "    border-color: transparent;\n",
              "    border-bottom-color: var(--fill-color);\n",
              "    animation:\n",
              "      spin 1s steps(1) infinite;\n",
              "  }\n",
              "\n",
              "  @keyframes spin {\n",
              "    0% {\n",
              "      border-color: transparent;\n",
              "      border-bottom-color: var(--fill-color);\n",
              "      border-left-color: var(--fill-color);\n",
              "    }\n",
              "    20% {\n",
              "      border-color: transparent;\n",
              "      border-left-color: var(--fill-color);\n",
              "      border-top-color: var(--fill-color);\n",
              "    }\n",
              "    30% {\n",
              "      border-color: transparent;\n",
              "      border-left-color: var(--fill-color);\n",
              "      border-top-color: var(--fill-color);\n",
              "      border-right-color: var(--fill-color);\n",
              "    }\n",
              "    40% {\n",
              "      border-color: transparent;\n",
              "      border-right-color: var(--fill-color);\n",
              "      border-top-color: var(--fill-color);\n",
              "    }\n",
              "    60% {\n",
              "      border-color: transparent;\n",
              "      border-right-color: var(--fill-color);\n",
              "    }\n",
              "    80% {\n",
              "      border-color: transparent;\n",
              "      border-right-color: var(--fill-color);\n",
              "      border-bottom-color: var(--fill-color);\n",
              "    }\n",
              "    90% {\n",
              "      border-color: transparent;\n",
              "      border-bottom-color: var(--fill-color);\n",
              "    }\n",
              "  }\n",
              "</style>\n",
              "\n",
              "      <script>\n",
              "        async function quickchart(key) {\n",
              "          const quickchartButtonEl =\n",
              "            document.querySelector('#' + key + ' button');\n",
              "          quickchartButtonEl.disabled = true;  // To prevent multiple clicks.\n",
              "          quickchartButtonEl.classList.add('colab-df-spinner');\n",
              "          try {\n",
              "            const charts = await google.colab.kernel.invokeFunction(\n",
              "                'suggestCharts', [key], {});\n",
              "          } catch (error) {\n",
              "            console.error('Error during call to suggestCharts:', error);\n",
              "          }\n",
              "          quickchartButtonEl.classList.remove('colab-df-spinner');\n",
              "          quickchartButtonEl.classList.add('colab-df-quickchart-complete');\n",
              "        }\n",
              "        (() => {\n",
              "          let quickchartButtonEl =\n",
              "            document.querySelector('#df-a482576e-75af-4bec-80a1-6a397f4480e2 button');\n",
              "          quickchartButtonEl.style.display =\n",
              "            google.colab.kernel.accessAllowed ? 'block' : 'none';\n",
              "        })();\n",
              "      </script>\n",
              "    </div>\n",
              "\n",
              "    </div>\n",
              "  </div>\n"
            ],
            "application/vnd.google.colaboratory.intrinsic+json": {
              "type": "dataframe",
              "summary": "{\n  \"name\": \"df_reg_results[['config', 'val_accuracy', 'f1_macro']]\",\n  \"rows\": 9,\n  \"fields\": [\n    {\n      \"column\": \"config\",\n      \"properties\": {\n        \"dtype\": \"object\",\n        \"semantic_type\": \"\",\n        \"description\": \"\"\n      }\n    },\n    {\n      \"column\": \"val_accuracy\",\n      \"properties\": {\n        \"dtype\": \"number\",\n        \"std\": 0.003167533655541257,\n        \"min\": 0.9598407626152039,\n        \"max\": 0.9697669386863709,\n        \"num_unique_values\": 8,\n        \"samples\": [\n          0.9675116300582886,\n          0.9643533945083618,\n          0.9697669386863709\n        ],\n        \"semantic_type\": \"\",\n        \"description\": \"\"\n      }\n    },\n    {\n      \"column\": \"f1_macro\",\n      \"properties\": {\n        \"dtype\": \"number\",\n        \"std\": 0.0033544510227993085,\n        \"min\": 0.9579514243485516,\n        \"max\": 0.9685637697555732,\n        \"num_unique_values\": 9,\n        \"samples\": [\n          0.9594983684315121,\n          0.9660804551473717,\n          0.9640922166127843\n        ],\n        \"semantic_type\": \"\",\n        \"description\": \"\"\n      }\n    }\n  ]\n}"
            }
          },
          "metadata": {},
          "execution_count": 23
        }
      ],
      "execution_count": null
    },
    {
      "metadata": {
        "ExecuteTime": {
          "end_time": "2025-05-23T10:07:15.957745Z",
          "start_time": "2025-05-23T10:07:15.906885Z"
        },
        "colab": {
          "base_uri": "https://localhost:8080/"
        },
        "id": "4e49246d4336a118",
        "outputId": "a21df20b-f5de-472c-e3e2-7823178129d4"
      },
      "cell_type": "code",
      "source": [
        "best_regularization_config = df_reg_results.sort_values(by='val_accuracy', ascending=False).iloc[0]['config']\n",
        "print(\"Best regularization config:\", best_regularization_config)"
      ],
      "id": "4e49246d4336a118",
      "outputs": [
        {
          "output_type": "stream",
          "name": "stdout",
          "text": [
            "Best regularization config: {'layers': [128], 'activation': 'relu', 'optimizer': 'adam', 'lr': 0.001, 'epochs': 30, 'batch_size': 32, 'dropout_rate': 0.0, 'l2': 0.001}\n"
          ]
        }
      ],
      "execution_count": null
    },
    {
      "metadata": {
        "id": "90a5370af6dbe4dc"
      },
      "cell_type": "markdown",
      "source": [
        "**Analysis**"
      ],
      "id": "90a5370af6dbe4dc"
    },
    {
      "metadata": {
        "ExecuteTime": {
          "end_time": "2025-05-23T10:07:16.918645Z",
          "start_time": "2025-05-23T10:07:16.103370Z"
        },
        "colab": {
          "base_uri": "https://localhost:8080/",
          "height": 416
        },
        "id": "1a5385163bbcfb77",
        "outputId": "3e7b627e-8568-4ef4-bb9b-3ffc2a39bdd7"
      },
      "cell_type": "code",
      "source": [
        "plot_architecture_heatmaps(df_reg_results, param01='dropout_rate', param02='l2')"
      ],
      "id": "1a5385163bbcfb77",
      "outputs": [
        {
          "output_type": "display_data",
          "data": {
            "text/plain": [
              "<Figure size 1600x600 with 4 Axes>"
            ],
            "image/png": "[encoded data removed]"
          },
          "metadata": {}
        }
      ],
      "execution_count": null
    },
    {
      "metadata": {
        "id": "806c565d9e8e9588"
      },
      "cell_type": "markdown",
      "source": [
        "## 4. Batch Size & Epochs (Efficiency Tuning)\n",
        "---\n"
      ],
      "id": "806c565d9e8e9588"
    },
    {
      "metadata": {
        "id": "a958cd7054b896e0"
      },
      "cell_type": "markdown",
      "source": [
        "**Model initialization**"
      ],
      "id": "a958cd7054b896e0"
    },
    {
      "metadata": {
        "ExecuteTime": {
          "end_time": "2025-05-23T10:07:16.948685Z",
          "start_time": "2025-05-23T10:07:16.930602Z"
        },
        "id": "2b004e4493d1cb58"
      },
      "cell_type": "code",
      "source": [
        "def create_model_batch_epoch(config):\n",
        "    return create_model(config=config, input_dim=X_train.shape[1])\n"
      ],
      "id": "2b004e4493d1cb58",
      "outputs": [],
      "execution_count": null
    },
    {
      "metadata": {
        "id": "d3e17c3188468016"
      },
      "cell_type": "markdown",
      "source": [
        "**Grid**"
      ],
      "id": "d3e17c3188468016"
    },
    {
      "metadata": {
        "ExecuteTime": {
          "end_time": "2025-05-23T10:07:17.042449Z",
          "start_time": "2025-05-23T10:07:17.021733Z"
        },
        "id": "7e091d98c402fe0d"
      },
      "cell_type": "code",
      "source": [
        "batch_sizes = [16, 32, 64]\n",
        "epochs_list = [20, 30, 50]\n",
        "\n",
        "layers = best_architecture['layers']\n",
        "activation = best_architecture['activation']\n",
        "optimizer = best_optimizer_config['optimizer']\n",
        "lr = best_optimizer_config['lr']\n",
        "l2 = best_regularization_config['l2']\n",
        "dropout_rate = best_regularization_config['dropout_rate']\n",
        "\n",
        "batch_epoch_grid = [\n",
        "    {\n",
        "        'layers': layers,\n",
        "        'activation': activation,\n",
        "        'optimizer': optimizer,\n",
        "        'lr': lr,\n",
        "        'l2': l2,\n",
        "        'dropout_rate': dropout_rate,\n",
        "\n",
        "        'batch_size': bs,\n",
        "        'epochs': ep\n",
        "    }\n",
        "    for bs in batch_sizes\n",
        "    for ep in epochs_list\n",
        "]"
      ],
      "id": "7e091d98c402fe0d",
      "outputs": [],
      "execution_count": null
    },
    {
      "metadata": {
        "id": "90639e74e653b04a"
      },
      "cell_type": "markdown",
      "source": [
        "**Starting pipeline**"
      ],
      "id": "90639e74e653b04a"
    },
    {
      "metadata": {
        "ExecuteTime": {
          "end_time": "2025-05-23T10:12:06.191615Z",
          "start_time": "2025-05-23T10:07:17.097626Z"
        },
        "id": "88c1b3a05efef7fd"
      },
      "cell_type": "code",
      "source": [
        "df_batch_epoch = evaluate_model_cv(\n",
        "    X=X_train,\n",
        "    y=y_train,\n",
        "    config_grid=batch_epoch_grid,\n",
        "    create_model_fn=create_model_batch_epoch,\n",
        "    k_folds=5\n",
        ")"
      ],
      "id": "88c1b3a05efef7fd",
      "outputs": [],
      "execution_count": null
    },
    {
      "metadata": {
        "id": "2d695ae3a5ad791c"
      },
      "cell_type": "markdown",
      "source": [
        "**Results**"
      ],
      "id": "2d695ae3a5ad791c"
    },
    {
      "metadata": {
        "ExecuteTime": {
          "end_time": "2025-05-23T10:12:06.411920Z",
          "start_time": "2025-05-23T10:12:06.354080Z"
        },
        "colab": {
          "base_uri": "https://localhost:8080/",
          "height": 332
        },
        "id": "86b79c49d8fa1ca8",
        "outputId": "29385d54-a1fb-4047-89f5-b63679b30808"
      },
      "cell_type": "code",
      "source": [
        "df_batch_epoch = df_batch_epoch.sort_values(by=['val_accuracy', 'f1_macro'], ascending=False)\n",
        "df_batch_epoch[['config', 'val_accuracy', 'f1_macro']]"
      ],
      "id": "86b79c49d8fa1ca8",
      "outputs": [
        {
          "output_type": "execute_result",
          "data": {
            "text/plain": [
              "                                              config  val_accuracy  f1_macro\n",
              "5  {'layers': [128], 'activation': 'relu', 'optim...      0.969766  0.968510\n",
              "8  {'layers': [128], 'activation': 'relu', 'optim...      0.968414  0.967094\n",
              "4  {'layers': [128], 'activation': 'relu', 'optim...      0.967963  0.966582\n",
              "7  {'layers': [128], 'activation': 'relu', 'optim...      0.966610  0.965088\n",
              "1  {'layers': [128], 'activation': 'relu', 'optim...      0.966157  0.964615\n",
              "2  {'layers': [128], 'activation': 'relu', 'optim...      0.965254  0.963548\n",
              "3  {'layers': [128], 'activation': 'relu', 'optim...      0.964804  0.963257\n",
              "0  {'layers': [128], 'activation': 'relu', 'optim...      0.964352  0.962747\n",
              "6  {'layers': [128], 'activation': 'relu', 'optim...      0.962548  0.960918"
            ],
            "text/html": [
              "\n",
              "  <div id=\"df-2b878e96-9f33-46d3-aeee-adadecbe304b\" class=\"colab-df-container\">\n",
              "    <div>\n",
              "<style scoped>\n",
              "    .dataframe tbody tr th:only-of-type {\n",
              "        vertical-align: middle;\n",
              "    }\n",
              "\n",
              "    .dataframe tbody tr th {\n",
              "        vertical-align: top;\n",
              "    }\n",
              "\n",
              "    .dataframe thead th {\n",
              "        text-align: right;\n",
              "    }\n",
              "</style>\n",
              "<table border=\"1\" class=\"dataframe\">\n",
              "  <thead>\n",
              "    <tr style=\"text-align: right;\">\n",
              "      <th></th>\n",
              "      <th>config</th>\n",
              "      <th>val_accuracy</th>\n",
              "      <th>f1_macro</th>\n",
              "    </tr>\n",
              "  </thead>\n",
              "  <tbody>\n",
              "    <tr>\n",
              "      <th>5</th>\n",
              "      <td>{'layers': [128], 'activation': 'relu', 'optim...</td>\n",
              "      <td>0.969766</td>\n",
              "      <td>0.968510</td>\n",
              "    </tr>\n",
              "    <tr>\n",
              "      <th>8</th>\n",
              "      <td>{'layers': [128], 'activation': 'relu', 'optim...</td>\n",
              "      <td>0.968414</td>\n",
              "      <td>0.967094</td>\n",
              "    </tr>\n",
              "    <tr>\n",
              "      <th>4</th>\n",
              "      <td>{'layers': [128], 'activation': 'relu', 'optim...</td>\n",
              "      <td>0.967963</td>\n",
              "      <td>0.966582</td>\n",
              "    </tr>\n",
              "    <tr>\n",
              "      <th>7</th>\n",
              "      <td>{'layers': [128], 'activation': 'relu', 'optim...</td>\n",
              "      <td>0.966610</td>\n",
              "      <td>0.965088</td>\n",
              "    </tr>\n",
              "    <tr>\n",
              "      <th>1</th>\n",
              "      <td>{'layers': [128], 'activation': 'relu', 'optim...</td>\n",
              "      <td>0.966157</td>\n",
              "      <td>0.964615</td>\n",
              "    </tr>\n",
              "    <tr>\n",
              "      <th>2</th>\n",
              "      <td>{'layers': [128], 'activation': 'relu', 'optim...</td>\n",
              "      <td>0.965254</td>\n",
              "      <td>0.963548</td>\n",
              "    </tr>\n",
              "    <tr>\n",
              "      <th>3</th>\n",
              "      <td>{'layers': [128], 'activation': 'relu', 'optim...</td>\n",
              "      <td>0.964804</td>\n",
              "      <td>0.963257</td>\n",
              "    </tr>\n",
              "    <tr>\n",
              "      <th>0</th>\n",
              "      <td>{'layers': [128], 'activation': 'relu', 'optim...</td>\n",
              "      <td>0.964352</td>\n",
              "      <td>0.962747</td>\n",
              "    </tr>\n",
              "    <tr>\n",
              "      <th>6</th>\n",
              "      <td>{'layers': [128], 'activation': 'relu', 'optim...</td>\n",
              "      <td>0.962548</td>\n",
              "      <td>0.960918</td>\n",
              "    </tr>\n",
              "  </tbody>\n",
              "</table>\n",
              "</div>\n",
              "    <div class=\"colab-df-buttons\">\n",
              "\n",
              "  <div class=\"colab-df-container\">\n",
              "    <button class=\"colab-df-convert\" onclick=\"convertToInteractive('df-2b878e96-9f33-46d3-aeee-adadecbe304b')\"\n",
              "            title=\"Convert this dataframe to an interactive table.\"\n",
              "            style=\"display:none;\">\n",
              "\n",
              "  <svg xmlns=\"http://www.w3.org/2000/svg\" height=\"24px\" viewBox=\"0 -960 960 960\">\n",
              "    <path d=\"M120-120v-720h720v720H120Zm60-500h600v-160H180v160Zm220 220h160v-160H400v160Zm0 220h160v-160H400v160ZM180-400h160v-160H180v160Zm440 0h160v-160H620v160ZM180-180h160v-160H180v160Zm440 0h160v-160H620v160Z\"/>\n",
              "  </svg>\n",
              "    </button>\n",
              "\n",
              "  <style>\n",
              "    .colab-df-container {\n",
              "      display:flex;\n",
              "      gap: 12px;\n",
              "    }\n",
              "\n",
              "    .colab-df-convert {\n",
              "      background-color: #E8F0FE;\n",
              "      border: none;\n",
              "      border-radius: 50%;\n",
              "      cursor: pointer;\n",
              "      display: none;\n",
              "      fill: #1967D2;\n",
              "      height: 32px;\n",
              "      padding: 0 0 0 0;\n",
              "      width: 32px;\n",
              "    }\n",
              "\n",
              "    .colab-df-convert:hover {\n",
              "      background-color: #E2EBFA;\n",
              "      box-shadow: 0px 1px 2px rgba(60, 64, 67, 0.3), 0px 1px 3px 1px rgba(60, 64, 67, 0.15);\n",
              "      fill: #174EA6;\n",
              "    }\n",
              "\n",
              "    .colab-df-buttons div {\n",
              "      margin-bottom: 4px;\n",
              "    }\n",
              "\n",
              "    [theme=dark] .colab-df-convert {\n",
              "      background-color: #3B4455;\n",
              "      fill: #D2E3FC;\n",
              "    }\n",
              "\n",
              "    [theme=dark] .colab-df-convert:hover {\n",
              "      background-color: #434B5C;\n",
              "      box-shadow: 0px 1px 3px 1px rgba(0, 0, 0, 0.15);\n",
              "      filter: drop-shadow(0px 1px 2px rgba(0, 0, 0, 0.3));\n",
              "      fill: #FFFFFF;\n",
              "    }\n",
              "  </style>\n",
              "\n",
              "    <script>\n",
              "      const buttonEl =\n",
              "        document.querySelector('#df-2b878e96-9f33-46d3-aeee-adadecbe304b button.colab-df-convert');\n",
              "      buttonEl.style.display =\n",
              "        google.colab.kernel.accessAllowed ? 'block' : 'none';\n",
              "\n",
              "      async function convertToInteractive(key) {\n",
              "        const element = document.querySelector('#df-2b878e96-9f33-46d3-aeee-adadecbe304b');\n",
              "        const dataTable =\n",
              "          await google.colab.kernel.invokeFunction('convertToInteractive',\n",
              "                                                    [key], {});\n",
              "        if (!dataTable) return;\n",
              "\n",
              "        const docLinkHtml = 'Like what you see? Visit the ' +\n",
              "          '<a target=\"_blank\" href=https://colab.research.google.com/notebooks/data_table.ipynb>data table notebook</a>'\n",
              "          + ' to learn more about interactive tables.';\n",
              "        element.innerHTML = '';\n",
              "        dataTable['output_type'] = 'display_data';\n",
              "        await google.colab.output.renderOutput(dataTable, element);\n",
              "        const docLink = document.createElement('div');\n",
              "        docLink.innerHTML = docLinkHtml;\n",
              "        element.appendChild(docLink);\n",
              "      }\n",
              "    </script>\n",
              "  </div>\n",
              "\n",
              "\n",
              "    <div id=\"df-789eaf37-9e3d-417b-9975-6901b18b55ba\">\n",
              "      <button class=\"colab-df-quickchart\" onclick=\"quickchart('df-789eaf37-9e3d-417b-9975-6901b18b55ba')\"\n",
              "                title=\"Suggest charts\"\n",
              "                style=\"display:none;\">\n",
              "\n",
              "<svg xmlns=\"http://www.w3.org/2000/svg\" height=\"24px\"viewBox=\"0 0 24 24\"\n",
              "     width=\"24px\">\n",
              "    <g>\n",
              "        <path d=\"M19 3H5c-1.1 0-2 .9-2 2v14c0 1.1.9 2 2 2h14c1.1 0 2-.9 2-2V5c0-1.1-.9-2-2-2zM9 17H7v-7h2v7zm4 0h-2V7h2v10zm4 0h-2v-4h2v4z\"/>\n",
              "    </g>\n",
              "</svg>\n",
              "      </button>\n",
              "\n",
              "<style>\n",
              "  .colab-df-quickchart {\n",
              "      --bg-color: #E8F0FE;\n",
              "      --fill-color: #1967D2;\n",
              "      --hover-bg-color: #E2EBFA;\n",
              "      --hover-fill-color: #174EA6;\n",
              "      --disabled-fill-color: #AAA;\n",
              "      --disabled-bg-color: #DDD;\n",
              "  }\n",
              "\n",
              "  [theme=dark] .colab-df-quickchart {\n",
              "      --bg-color: #3B4455;\n",
              "      --fill-color: #D2E3FC;\n",
              "      --hover-bg-color: #434B5C;\n",
              "      --hover-fill-color: #FFFFFF;\n",
              "      --disabled-bg-color: #3B4455;\n",
              "      --disabled-fill-color: #666;\n",
              "  }\n",
              "\n",
              "  .colab-df-quickchart {\n",
              "    background-color: var(--bg-color);\n",
              "    border: none;\n",
              "    border-radius: 50%;\n",
              "    cursor: pointer;\n",
              "    display: none;\n",
              "    fill: var(--fill-color);\n",
              "    height: 32px;\n",
              "    padding: 0;\n",
              "    width: 32px;\n",
              "  }\n",
              "\n",
              "  .colab-df-quickchart:hover {\n",
              "    background-color: var(--hover-bg-color);\n",
              "    box-shadow: 0 1px 2px rgba(60, 64, 67, 0.3), 0 1px 3px 1px rgba(60, 64, 67, 0.15);\n",
              "    fill: var(--button-hover-fill-color);\n",
              "  }\n",
              "\n",
              "  .colab-df-quickchart-complete:disabled,\n",
              "  .colab-df-quickchart-complete:disabled:hover {\n",
              "    background-color: var(--disabled-bg-color);\n",
              "    fill: var(--disabled-fill-color);\n",
              "    box-shadow: none;\n",
              "  }\n",
              "\n",
              "  .colab-df-spinner {\n",
              "    border: 2px solid var(--fill-color);\n",
              "    border-color: transparent;\n",
              "    border-bottom-color: var(--fill-color);\n",
              "    animation:\n",
              "      spin 1s steps(1) infinite;\n",
              "  }\n",
              "\n",
              "  @keyframes spin {\n",
              "    0% {\n",
              "      border-color: transparent;\n",
              "      border-bottom-color: var(--fill-color);\n",
              "      border-left-color: var(--fill-color);\n",
              "    }\n",
              "    20% {\n",
              "      border-color: transparent;\n",
              "      border-left-color: var(--fill-color);\n",
              "      border-top-color: var(--fill-color);\n",
              "    }\n",
              "    30% {\n",
              "      border-color: transparent;\n",
              "      border-left-color: var(--fill-color);\n",
              "      border-top-color: var(--fill-color);\n",
              "      border-right-color: var(--fill-color);\n",
              "    }\n",
              "    40% {\n",
              "      border-color: transparent;\n",
              "      border-right-color: var(--fill-color);\n",
              "      border-top-color: var(--fill-color);\n",
              "    }\n",
              "    60% {\n",
              "      border-color: transparent;\n",
              "      border-right-color: var(--fill-color);\n",
              "    }\n",
              "    80% {\n",
              "      border-color: transparent;\n",
              "      border-right-color: var(--fill-color);\n",
              "      border-bottom-color: var(--fill-color);\n",
              "    }\n",
              "    90% {\n",
              "      border-color: transparent;\n",
              "      border-bottom-color: var(--fill-color);\n",
              "    }\n",
              "  }\n",
              "</style>\n",
              "\n",
              "      <script>\n",
              "        async function quickchart(key) {\n",
              "          const quickchartButtonEl =\n",
              "            document.querySelector('#' + key + ' button');\n",
              "          quickchartButtonEl.disabled = true;  // To prevent multiple clicks.\n",
              "          quickchartButtonEl.classList.add('colab-df-spinner');\n",
              "          try {\n",
              "            const charts = await google.colab.kernel.invokeFunction(\n",
              "                'suggestCharts', [key], {});\n",
              "          } catch (error) {\n",
              "            console.error('Error during call to suggestCharts:', error);\n",
              "          }\n",
              "          quickchartButtonEl.classList.remove('colab-df-spinner');\n",
              "          quickchartButtonEl.classList.add('colab-df-quickchart-complete');\n",
              "        }\n",
              "        (() => {\n",
              "          let quickchartButtonEl =\n",
              "            document.querySelector('#df-789eaf37-9e3d-417b-9975-6901b18b55ba button');\n",
              "          quickchartButtonEl.style.display =\n",
              "            google.colab.kernel.accessAllowed ? 'block' : 'none';\n",
              "        })();\n",
              "      </script>\n",
              "    </div>\n",
              "\n",
              "    </div>\n",
              "  </div>\n"
            ],
            "application/vnd.google.colaboratory.intrinsic+json": {
              "type": "dataframe",
              "summary": "{\n  \"name\": \"df_batch_epoch[['config', 'val_accuracy', 'f1_macro']]\",\n  \"rows\": 9,\n  \"fields\": [\n    {\n      \"column\": \"config\",\n      \"properties\": {\n        \"dtype\": \"object\",\n        \"semantic_type\": \"\",\n        \"description\": \"\"\n      }\n    },\n    {\n      \"column\": \"val_accuracy\",\n      \"properties\": {\n        \"dtype\": \"number\",\n        \"std\": 0.0022497578954897386,\n        \"min\": 0.9625475168228149,\n        \"max\": 0.9697659254074097,\n        \"num_unique_values\": 9,\n        \"samples\": [\n          0.9643523931503296,\n          0.9684135675430298,\n          0.9652543067932129\n        ],\n        \"semantic_type\": \"\",\n        \"description\": \"\"\n      }\n    },\n    {\n      \"column\": \"f1_macro\",\n      \"properties\": {\n        \"dtype\": \"number\",\n        \"std\": 0.0023841510989081713,\n        \"min\": 0.9609177960478286,\n        \"max\": 0.9685100541002767,\n        \"num_unique_values\": 9,\n        \"samples\": [\n          0.9627468818976915,\n          0.9670936313403828,\n          0.9635480739518961\n        ],\n        \"semantic_type\": \"\",\n        \"description\": \"\"\n      }\n    }\n  ]\n}"
            }
          },
          "metadata": {},
          "execution_count": 29
        }
      ],
      "execution_count": null
    },
    {
      "metadata": {
        "ExecuteTime": {
          "end_time": "2025-05-23T10:12:06.891842Z",
          "start_time": "2025-05-23T10:12:06.848957Z"
        },
        "colab": {
          "base_uri": "https://localhost:8080/"
        },
        "id": "8a97fc58ef4c0b4",
        "outputId": "24329913-2a7e-4114-ff33-f3cbfdf803a7"
      },
      "cell_type": "code",
      "source": [
        "best_batch_epoch_config = df_batch_epoch.iloc[0]['config']\n",
        "print(\"Best batch and epochs config:\", best_batch_epoch_config)"
      ],
      "id": "8a97fc58ef4c0b4",
      "outputs": [
        {
          "output_type": "stream",
          "name": "stdout",
          "text": [
            "Best batch and epochs config: {'layers': [128], 'activation': 'relu', 'optimizer': 'adam', 'lr': 0.001, 'l2': 0.001, 'dropout_rate': 0.0, 'batch_size': 32, 'epochs': 50}\n"
          ]
        }
      ],
      "execution_count": null
    },
    {
      "metadata": {
        "id": "9e87564e7e65ad27"
      },
      "cell_type": "markdown",
      "source": [
        "**Analysis**"
      ],
      "id": "9e87564e7e65ad27"
    },
    {
      "metadata": {
        "ExecuteTime": {
          "end_time": "2025-05-23T10:12:08.693031Z",
          "start_time": "2025-05-23T10:12:07.204007Z"
        },
        "colab": {
          "base_uri": "https://localhost:8080/",
          "height": 416
        },
        "id": "17c7270c779e562f",
        "outputId": "38437ebd-6548-46b7-a8aa-c22037c29d52"
      },
      "cell_type": "code",
      "source": [
        "plot_architecture_heatmaps(df_batch_epoch, param01='batch_size', param02='epochs')"
      ],
      "id": "17c7270c779e562f",
      "outputs": [
        {
          "output_type": "display_data",
          "data": {
            "text/plain": [
              "<Figure size 1600x600 with 4 Axes>"
            ],
            "image/png": "[encoded data removed]"
          },
          "metadata": {}
        }
      ],
      "execution_count": null
    },
    {
      "metadata": {
        "id": "485d29746ec5bfd0"
      },
      "cell_type": "markdown",
      "source": [
        "# Best config\n",
        "---\n",
        "### Merge from all best-dictionaries total config-dictionary for top-model"
      ],
      "id": "485d29746ec5bfd0"
    },
    {
      "metadata": {
        "ExecuteTime": {
          "end_time": "2025-05-23T10:12:08.739530Z",
          "start_time": "2025-05-23T10:12:08.717962Z"
        },
        "id": "94d2a8a52394183c"
      },
      "cell_type": "code",
      "source": [
        "best_model_config = {\n",
        "    **best_architecture,\n",
        "    **best_optimizer_config,\n",
        "    **best_regularization_config,\n",
        "    **best_batch_epoch_config\n",
        "}"
      ],
      "id": "94d2a8a52394183c",
      "outputs": [],
      "execution_count": null
    },
    {
      "metadata": {
        "ExecuteTime": {
          "end_time": "2025-05-23T10:12:08.849164Z",
          "start_time": "2025-05-23T10:12:08.821235Z"
        },
        "colab": {
          "base_uri": "https://localhost:8080/"
        },
        "id": "cac5f2d6fcb73eec",
        "outputId": "97086431-850b-4ee5-b527-a25b7b16c9e9"
      },
      "cell_type": "code",
      "source": [
        "best_model_config"
      ],
      "id": "cac5f2d6fcb73eec",
      "outputs": [
        {
          "output_type": "execute_result",
          "data": {
            "text/plain": [
              "{'epochs': 50,\n",
              " 'batch_size': 32,\n",
              " 'layers': [128],\n",
              " 'activation': 'relu',\n",
              " 'optimizer': 'adam',\n",
              " 'lr': 0.001,\n",
              " 'dropout_rate': 0.0,\n",
              " 'l2': 0.001}"
            ]
          },
          "metadata": {},
          "execution_count": 33
        }
      ],
      "execution_count": null
    },
    {
      "metadata": {
        "id": "ee7023a21aa20eaa"
      },
      "cell_type": "markdown",
      "source": [
        "## Final Model Summary\n",
        "---\n",
        "**Neural Network Classifier for Customer Segmentation**\n",
        "\n",
        "This report summarizes the outcome of a structured, multi-stage hyperparameter optimization process used to build the best-performing feedforward neural network model for classifying customer profiles. Each stage of the pipeline targeted a specific group of hyperparameters to evaluate their impact on validation performance using K-Fold cross-validation. The final model was selected based on the highest average validation accuracy and F1-Score.\n",
        "\n",
        "\n",
        "### 1. Architecture Search\n",
        "\n",
        "**Tested Configurations:**\n",
        "- Depth: 1 to 4 hidden layers\n",
        "- Units: fixed [128, 64, 32, 16] patterns\n",
        "- Activation functions: `relu`, `tanh`, `elu`\n",
        "\n",
        "**Result:**\n",
        "- The best-performing architecture had only **one hidden layer with 128 neurons** and used the **ReLU activation** function.\n",
        "\n",
        "**Analysis:**\n",
        "Deeper architectures did not improve performance and in some cases degraded it. The shallow network generalizes better to this specific dataset, likely due to its relatively simple decision boundaries. The **ReLU** activation outperformed **tanh** and **elu**, suggesting that vanishing gradient issues were minimal and the linear rectifier allowed efficient optimization.\n",
        "\n",
        "\n",
        "### 2. Optimizer and Learning Rate Tuning\n",
        "\n",
        "**Tested Optimizers:**\n",
        "- `adam`, `sgd`, `rmsprop`\n",
        "- Learning rates: 0.01, 0.005, 0.001, 0.0005\n",
        "\n",
        "**Result:**\n",
        "- Best: **Adam optimizer with learning rate = 0.001**\n",
        "\n",
        "**Analysis:**\n",
        "**Adam** delivered more stable and higher validation performance than **SGD** and **RMSprop**. The **learning rate** of 0.001 emerged as the sweet spot, avoiding instability (as seen with 0.01) while allowing reasonably fast convergence. SGD showed notably worse results, confirming its sensitivity to learning rate and lack of adaptive scaling in comparison to Adam.\n",
        "\n",
        "### 3. Regularization Tuning\n",
        "\n",
        "**Tested:**\n",
        "- Dropout: 0.0, 0.3, 0.5\n",
        "- L2 regularization: 0.0, 0.001, 0.01\n",
        "\n",
        "**Result:**\n",
        "- **Dropout: 0.0**\n",
        "- **L2 regularization: 0.001**\n",
        "\n",
        "**Analysis:**\n",
        "The most successful model used **no dropout** and only light **L2 weight decay**. This indicates the model is not overfitting significantly, and heavier regularization would suppress useful capacity. The small L2 value helped gently constrain weights without interfering with training.\n",
        "\n",
        "\n",
        "\n",
        "### 4. Batch Size and Epochs Tuning\n",
        "\n",
        "**Tested:**\n",
        "- Batch sizes: 16, 32, 64\n",
        "- Epochs: 20, 30, 50\n",
        "\n",
        "**Result:**\n",
        "- Best: **Batch size = 32**, **Epochs = 50**\n",
        "- Accuracy dropped when increasing to 80 epochs.\n",
        "\n",
        "**Analysis:**\n",
        "This configuration provided a good balance between learning speed and generalization. Training longer (e.g., 80 epochs) began to degrade performance, showing signs of overfitting. Batch size **32** was more stable and generalizable than both smaller and larger options.\n",
        "\n",
        "\n",
        "### Final Best Configuration\n",
        "\n",
        "```python\n",
        "{\n",
        "    'layers': [128],\n",
        "    'activation': 'relu',\n",
        "    'optimizer': 'adam',\n",
        "    'lr': 0.001,\n",
        "    'dropout_rate': 0.00,\n",
        "    'l2': 0.001,\n",
        "    'batch_size': 32,\n",
        "    'epochs': 50\n",
        "}\n",
        "```\n",
        "\n",
        "This configuration emerged as the most effective combination of architecture, optimizer, regularization, and training dynamics.\n",
        "\n",
        "### Conclusion\n",
        "\n",
        "The final model is compact, efficient, and generalizes well. Despite testing deeper and more complex variants, a simple single-layer ReLU network trained with Adam and minimal L2 regularization was sufficient to capture relevant patterns in the data. This emphasizes the power of structured tuning over architectural complexity."
      ],
      "id": "ee7023a21aa20eaa"
    },
    {
      "metadata": {
        "id": "d1765bf2b692d174"
      },
      "cell_type": "markdown",
      "source": [
        "## Test of ready model\n",
        "---"
      ],
      "id": "d1765bf2b692d174"
    },
    {
      "metadata": {
        "id": "5c259314866cb727"
      },
      "cell_type": "markdown",
      "source": [
        "**Data split for full training**"
      ],
      "id": "5c259314866cb727"
    },
    {
      "metadata": {
        "ExecuteTime": {
          "end_time": "2025-05-23T10:12:09.004745Z",
          "start_time": "2025-05-23T10:12:08.962856Z"
        },
        "id": "f036abe553d36b11"
      },
      "cell_type": "code",
      "source": [
        "X_full_train, X_test, y_full_train, y_test = train_test_split(\n",
        "    X_train, y_train, test_size=0.2, random_state=42, stratify=y_train\n",
        ")"
      ],
      "id": "f036abe553d36b11",
      "outputs": [],
      "execution_count": null
    },
    {
      "metadata": {
        "id": "a5ef014f4411d64a"
      },
      "cell_type": "markdown",
      "source": [
        "**Creating model with the best parameters**"
      ],
      "id": "a5ef014f4411d64a"
    },
    {
      "metadata": {
        "ExecuteTime": {
          "end_time": "2025-05-23T10:12:19.548590Z",
          "start_time": "2025-05-23T10:12:09.645032Z"
        },
        "colab": {
          "base_uri": "https://localhost:8080/"
        },
        "id": "a2eca7b193b5ab05",
        "outputId": "b8101aad-d844-4afb-9d6e-0b6bfa7ffd76"
      },
      "cell_type": "code",
      "source": [
        "final_model = create_model(config=best_model_config, input_dim=X_train.shape[1])\n",
        "\n",
        "final_model.fit(\n",
        "    X_full_train,\n",
        "    y_full_train,\n",
        "    epochs=best_model_config['epochs'],\n",
        "    batch_size=best_model_config['batch_size'],\n",
        "    verbose=1\n",
        ")"
      ],
      "id": "a2eca7b193b5ab05",
      "outputs": [
        {
          "output_type": "stream",
          "name": "stdout",
          "text": [
            "Epoch 1/50\n",
            "\u001b[1m56/56\u001b[0m \u001b[32m━━━━━━━━━━━━━━━━━━━━\u001b[0m\u001b[37m\u001b[0m \u001b[1m1s\u001b[0m 3ms/step - accuracy: 0.5942 - loss: 0.9124\n",
            "Epoch 2/50\n",
            "\u001b[1m56/56\u001b[0m \u001b[32m━━━━━━━━━━━━━━━━━━━━\u001b[0m\u001b[37m\u001b[0m \u001b[1m0s\u001b[0m 3ms/step - accuracy: 0.9287 - loss: 0.3092\n",
            "Epoch 3/50\n",
            "\u001b[1m56/56\u001b[0m \u001b[32m━━━━━━━━━━━━━━━━━━━━\u001b[0m\u001b[37m\u001b[0m \u001b[1m0s\u001b[0m 3ms/step - accuracy: 0.9461 - loss: 0.2175\n",
            "Epoch 4/50\n",
            "\u001b[1m56/56\u001b[0m \u001b[32m━━━━━━━━━━━━━━━━━━━━\u001b[0m\u001b[37m\u001b[0m \u001b[1m0s\u001b[0m 3ms/step - accuracy: 0.9522 - loss: 0.1799\n",
            "Epoch 5/50\n",
            "\u001b[1m56/56\u001b[0m \u001b[32m━━━━━━━━━━━━━━━━━━━━\u001b[0m\u001b[37m\u001b[0m \u001b[1m0s\u001b[0m 3ms/step - accuracy: 0.9644 - loss: 0.1587\n",
            "Epoch 6/50\n",
            "\u001b[1m56/56\u001b[0m \u001b[32m━━━━━━━━━━━━━━━━━━━━\u001b[0m\u001b[37m\u001b[0m \u001b[1m0s\u001b[0m 3ms/step - accuracy: 0.9650 - loss: 0.1448\n",
            "Epoch 7/50\n",
            "\u001b[1m56/56\u001b[0m \u001b[32m━━━━━━━━━━━━━━━━━━━━\u001b[0m\u001b[37m\u001b[0m \u001b[1m0s\u001b[0m 3ms/step - accuracy: 0.9676 - loss: 0.1349\n",
            "Epoch 8/50\n",
            "\u001b[1m56/56\u001b[0m \u001b[32m━━━━━━━━━━━━━━━━━━━━\u001b[0m\u001b[37m\u001b[0m \u001b[1m0s\u001b[0m 4ms/step - accuracy: 0.9698 - loss: 0.1273\n",
            "Epoch 9/50\n",
            "\u001b[1m56/56\u001b[0m \u001b[32m━━━━━━━━━━━━━━━━━━━━\u001b[0m\u001b[37m\u001b[0m \u001b[1m0s\u001b[0m 4ms/step - accuracy: 0.9744 - loss: 0.1211\n",
            "Epoch 10/50\n",
            "\u001b[1m56/56\u001b[0m \u001b[32m━━━━━━━━━━━━━━━━━━━━\u001b[0m\u001b[37m\u001b[0m \u001b[1m0s\u001b[0m 4ms/step - accuracy: 0.9762 - loss: 0.1158\n",
            "Epoch 11/50\n",
            "\u001b[1m56/56\u001b[0m \u001b[32m━━━━━━━━━━━━━━━━━━━━\u001b[0m\u001b[37m\u001b[0m \u001b[1m0s\u001b[0m 4ms/step - accuracy: 0.9765 - loss: 0.1114\n",
            "Epoch 12/50\n",
            "\u001b[1m56/56\u001b[0m \u001b[32m━━━━━━━━━━━━━━━━━━━━\u001b[0m\u001b[37m\u001b[0m \u001b[1m0s\u001b[0m 4ms/step - accuracy: 0.9777 - loss: 0.1074\n",
            "Epoch 13/50\n",
            "\u001b[1m56/56\u001b[0m \u001b[32m━━━━━━━━━━━━━━━━━━━━\u001b[0m\u001b[37m\u001b[0m \u001b[1m0s\u001b[0m 4ms/step - accuracy: 0.9780 - loss: 0.1039\n",
            "Epoch 14/50\n",
            "\u001b[1m56/56\u001b[0m \u001b[32m━━━━━━━━━━━━━━━━━━━━\u001b[0m\u001b[37m\u001b[0m \u001b[1m0s\u001b[0m 5ms/step - accuracy: 0.9791 - loss: 0.1006\n",
            "Epoch 15/50\n",
            "\u001b[1m56/56\u001b[0m \u001b[32m━━━━━━━━━━━━━━━━━━━━\u001b[0m\u001b[37m\u001b[0m \u001b[1m0s\u001b[0m 5ms/step - accuracy: 0.9807 - loss: 0.0977\n",
            "Epoch 16/50\n",
            "\u001b[1m56/56\u001b[0m \u001b[32m━━━━━━━━━━━━━━━━━━━━\u001b[0m\u001b[37m\u001b[0m \u001b[1m0s\u001b[0m 3ms/step - accuracy: 0.9807 - loss: 0.0949\n",
            "Epoch 17/50\n",
            "\u001b[1m56/56\u001b[0m \u001b[32m━━━━━━━━━━━━━━━━━━━━\u001b[0m\u001b[37m\u001b[0m \u001b[1m0s\u001b[0m 3ms/step - accuracy: 0.9828 - loss: 0.0924\n",
            "Epoch 18/50\n",
            "\u001b[1m56/56\u001b[0m \u001b[32m━━━━━━━━━━━━━━━━━━━━\u001b[0m\u001b[37m\u001b[0m \u001b[1m0s\u001b[0m 3ms/step - accuracy: 0.9829 - loss: 0.0900\n",
            "Epoch 19/50\n",
            "\u001b[1m56/56\u001b[0m \u001b[32m━━━━━━━━━━━━━━━━━━━━\u001b[0m\u001b[37m\u001b[0m \u001b[1m0s\u001b[0m 3ms/step - accuracy: 0.9829 - loss: 0.0877\n",
            "Epoch 20/50\n",
            "\u001b[1m56/56\u001b[0m \u001b[32m━━━━━━━━━━━━━━━━━━━━\u001b[0m\u001b[37m\u001b[0m \u001b[1m0s\u001b[0m 3ms/step - accuracy: 0.9851 - loss: 0.0856\n",
            "Epoch 21/50\n",
            "\u001b[1m56/56\u001b[0m \u001b[32m━━━━━━━━━━━━━━━━━━━━\u001b[0m\u001b[37m\u001b[0m \u001b[1m0s\u001b[0m 3ms/step - accuracy: 0.9857 - loss: 0.0835\n",
            "Epoch 22/50\n",
            "\u001b[1m56/56\u001b[0m \u001b[32m━━━━━━━━━━━━━━━━━━━━\u001b[0m\u001b[37m\u001b[0m \u001b[1m0s\u001b[0m 3ms/step - accuracy: 0.9869 - loss: 0.0815\n",
            "Epoch 23/50\n",
            "\u001b[1m56/56\u001b[0m \u001b[32m━━━━━━━━━━━━━━━━━━━━\u001b[0m\u001b[37m\u001b[0m \u001b[1m0s\u001b[0m 3ms/step - accuracy: 0.9873 - loss: 0.0797\n",
            "Epoch 24/50\n",
            "\u001b[1m56/56\u001b[0m \u001b[32m━━━━━━━━━━━━━━━━━━━━\u001b[0m\u001b[37m\u001b[0m \u001b[1m0s\u001b[0m 3ms/step - accuracy: 0.9873 - loss: 0.0779\n",
            "Epoch 25/50\n",
            "\u001b[1m56/56\u001b[0m \u001b[32m━━━━━━━━━━━━━━━━━━━━\u001b[0m\u001b[37m\u001b[0m \u001b[1m0s\u001b[0m 3ms/step - accuracy: 0.9873 - loss: 0.0763\n",
            "Epoch 26/50\n",
            "\u001b[1m56/56\u001b[0m \u001b[32m━━━━━━━━━━━━━━━━━━━━\u001b[0m\u001b[37m\u001b[0m \u001b[1m0s\u001b[0m 3ms/step - accuracy: 0.9889 - loss: 0.0748\n",
            "Epoch 27/50\n",
            "\u001b[1m56/56\u001b[0m \u001b[32m━━━━━━━━━━━━━━━━━━━━\u001b[0m\u001b[37m\u001b[0m \u001b[1m0s\u001b[0m 3ms/step - accuracy: 0.9891 - loss: 0.0733\n",
            "Epoch 28/50\n",
            "\u001b[1m56/56\u001b[0m \u001b[32m━━━━━━━━━━━━━━━━━━━━\u001b[0m\u001b[37m\u001b[0m \u001b[1m0s\u001b[0m 3ms/step - accuracy: 0.9897 - loss: 0.0718\n",
            "Epoch 29/50\n",
            "\u001b[1m56/56\u001b[0m \u001b[32m━━━━━━━━━━━━━━━━━━━━\u001b[0m\u001b[37m\u001b[0m \u001b[1m0s\u001b[0m 3ms/step - accuracy: 0.9901 - loss: 0.0705\n",
            "Epoch 30/50\n",
            "\u001b[1m56/56\u001b[0m \u001b[32m━━━━━━━━━━━━━━━━━━━━\u001b[0m\u001b[37m\u001b[0m \u001b[1m0s\u001b[0m 3ms/step - accuracy: 0.9901 - loss: 0.0692\n",
            "Epoch 31/50\n",
            "\u001b[1m56/56\u001b[0m \u001b[32m━━━━━━━━━━━━━━━━━━━━\u001b[0m\u001b[37m\u001b[0m \u001b[1m0s\u001b[0m 3ms/step - accuracy: 0.9914 - loss: 0.0680\n",
            "Epoch 32/50\n",
            "\u001b[1m56/56\u001b[0m \u001b[32m━━━━━━━━━━━━━━━━━━━━\u001b[0m\u001b[37m\u001b[0m \u001b[1m0s\u001b[0m 3ms/step - accuracy: 0.9921 - loss: 0.0668\n",
            "Epoch 33/50\n",
            "\u001b[1m56/56\u001b[0m \u001b[32m━━━━━━━━━━━━━━━━━━━━\u001b[0m\u001b[37m\u001b[0m \u001b[1m0s\u001b[0m 3ms/step - accuracy: 0.9922 - loss: 0.0657\n",
            "Epoch 34/50\n",
            "\u001b[1m56/56\u001b[0m \u001b[32m━━━━━━━━━━━━━━━━━━━━\u001b[0m\u001b[37m\u001b[0m \u001b[1m0s\u001b[0m 3ms/step - accuracy: 0.9919 - loss: 0.0646\n",
            "Epoch 35/50\n",
            "\u001b[1m56/56\u001b[0m \u001b[32m━━━━━━━━━━━━━━━━━━━━\u001b[0m\u001b[37m\u001b[0m \u001b[1m0s\u001b[0m 3ms/step - accuracy: 0.9926 - loss: 0.0636\n",
            "Epoch 36/50\n",
            "\u001b[1m56/56\u001b[0m \u001b[32m━━━━━━━━━━━━━━━━━━━━\u001b[0m\u001b[37m\u001b[0m \u001b[1m0s\u001b[0m 3ms/step - accuracy: 0.9929 - loss: 0.0626\n",
            "Epoch 37/50\n",
            "\u001b[1m56/56\u001b[0m \u001b[32m━━━━━━━━━━━━━━━━━━━━\u001b[0m\u001b[37m\u001b[0m \u001b[1m0s\u001b[0m 3ms/step - accuracy: 0.9937 - loss: 0.0617\n",
            "Epoch 38/50\n",
            "\u001b[1m56/56\u001b[0m \u001b[32m━━━━━━━━━━━━━━━━━━━━\u001b[0m\u001b[37m\u001b[0m \u001b[1m0s\u001b[0m 3ms/step - accuracy: 0.9937 - loss: 0.0608\n",
            "Epoch 39/50\n",
            "\u001b[1m56/56\u001b[0m \u001b[32m━━━━━━━━━━━━━━━━━━━━\u001b[0m\u001b[37m\u001b[0m \u001b[1m0s\u001b[0m 3ms/step - accuracy: 0.9937 - loss: 0.0600\n",
            "Epoch 40/50\n",
            "\u001b[1m56/56\u001b[0m \u001b[32m━━━━━━━━━━━━━━━━━━━━\u001b[0m\u001b[37m\u001b[0m \u001b[1m0s\u001b[0m 3ms/step - accuracy: 0.9937 - loss: 0.0592\n",
            "Epoch 41/50\n",
            "\u001b[1m56/56\u001b[0m \u001b[32m━━━━━━━━━━━━━━━━━━━━\u001b[0m\u001b[37m\u001b[0m \u001b[1m0s\u001b[0m 3ms/step - accuracy: 0.9937 - loss: 0.0584\n",
            "Epoch 42/50\n",
            "\u001b[1m56/56\u001b[0m \u001b[32m━━━━━━━━━━━━━━━━━━━━\u001b[0m\u001b[37m\u001b[0m \u001b[1m0s\u001b[0m 3ms/step - accuracy: 0.9937 - loss: 0.0576\n",
            "Epoch 43/50\n",
            "\u001b[1m56/56\u001b[0m \u001b[32m━━━━━━━━━━━━━━━━━━━━\u001b[0m\u001b[37m\u001b[0m \u001b[1m0s\u001b[0m 3ms/step - accuracy: 0.9937 - loss: 0.0570\n",
            "Epoch 44/50\n",
            "\u001b[1m56/56\u001b[0m \u001b[32m━━━━━━━━━━━━━━━━━━━━\u001b[0m\u001b[37m\u001b[0m \u001b[1m0s\u001b[0m 3ms/step - accuracy: 0.9937 - loss: 0.0562\n",
            "Epoch 45/50\n",
            "\u001b[1m56/56\u001b[0m \u001b[32m━━━━━━━━━━━━━━━━━━━━\u001b[0m\u001b[37m\u001b[0m \u001b[1m0s\u001b[0m 3ms/step - accuracy: 0.9937 - loss: 0.0555\n",
            "Epoch 46/50\n",
            "\u001b[1m56/56\u001b[0m \u001b[32m━━━━━━━━━━━━━━━━━━━━\u001b[0m\u001b[37m\u001b[0m \u001b[1m0s\u001b[0m 3ms/step - accuracy: 0.9938 - loss: 0.0548\n",
            "Epoch 47/50\n",
            "\u001b[1m56/56\u001b[0m \u001b[32m━━━━━━━━━━━━━━━━━━━━\u001b[0m\u001b[37m\u001b[0m \u001b[1m0s\u001b[0m 3ms/step - accuracy: 0.9937 - loss: 0.0542\n",
            "Epoch 48/50\n",
            "\u001b[1m56/56\u001b[0m \u001b[32m━━━━━━━━━━━━━━━━━━━━\u001b[0m\u001b[37m\u001b[0m \u001b[1m0s\u001b[0m 3ms/step - accuracy: 0.9938 - loss: 0.0534\n",
            "Epoch 49/50\n",
            "\u001b[1m56/56\u001b[0m \u001b[32m━━━━━━━━━━━━━━━━━━━━\u001b[0m\u001b[37m\u001b[0m \u001b[1m0s\u001b[0m 3ms/step - accuracy: 0.9949 - loss: 0.0529\n",
            "Epoch 50/50\n",
            "\u001b[1m56/56\u001b[0m \u001b[32m━━━━━━━━━━━━━━━━━━━━\u001b[0m\u001b[37m\u001b[0m \u001b[1m0s\u001b[0m 3ms/step - accuracy: 0.9949 - loss: 0.0522\n"
          ]
        },
        {
          "output_type": "execute_result",
          "data": {
            "text/plain": [
              "<keras.src.callbacks.history.History at 0x7bee27e1fe90>"
            ]
          },
          "metadata": {},
          "execution_count": 35
        }
      ],
      "execution_count": null
    },
    {
      "metadata": {
        "id": "40772147ae8ab5ca"
      },
      "cell_type": "markdown",
      "source": [
        "**Scoring**"
      ],
      "id": "40772147ae8ab5ca"
    },
    {
      "metadata": {
        "ExecuteTime": {
          "end_time": "2025-05-23T10:18:08.369375Z",
          "start_time": "2025-05-23T10:18:07.893106Z"
        },
        "colab": {
          "base_uri": "https://localhost:8080/"
        },
        "id": "4dcccc58596dfa91",
        "outputId": "608ce6db-9aa9-4d2e-c3e6-639235919a89"
      },
      "cell_type": "code",
      "source": [
        "y_pred = final_model.predict(X_test).argmax(axis=1)\n",
        "\n",
        "acc = accuracy_score(y_test, y_pred)\n",
        "f1 = f1_score(y_test, y_pred, average='macro')"
      ],
      "id": "4dcccc58596dfa91",
      "outputs": [
        {
          "output_type": "stream",
          "name": "stdout",
          "text": [
            "\u001b[1m14/14\u001b[0m \u001b[32m━━━━━━━━━━━━━━━━━━━━\u001b[0m\u001b[37m\u001b[0m \u001b[1m0s\u001b[0m 7ms/step\n"
          ]
        }
      ],
      "execution_count": null
    },
    {
      "metadata": {
        "ExecuteTime": {
          "end_time": "2025-05-23T10:18:39.740082Z",
          "start_time": "2025-05-23T10:18:39.705039Z"
        },
        "id": "82f794b0161e9009"
      },
      "cell_type": "code",
      "source": [
        "def conf_matrix(y_true, y_pred, labels=None, title=\"Confusion Matrix\"):\n",
        "    cm = confusion_matrix(y_true, y_pred)\n",
        "    plt.figure(figsize=(6, 5))\n",
        "    sns.heatmap(cm, annot=True, fmt='d', cmap='Blues',\n",
        "                xticklabels=labels, yticklabels=labels, cbar=False)\n",
        "    plt.xlabel('Predicted Label')\n",
        "    plt.ylabel('True Label')\n",
        "    plt.title(title)\n",
        "    plt.tight_layout()\n",
        "    plt.show()\n"
      ],
      "id": "82f794b0161e9009",
      "outputs": [],
      "execution_count": null
    },
    {
      "metadata": {
        "ExecuteTime": {
          "end_time": "2025-05-23T10:18:40.712009Z",
          "start_time": "2025-05-23T10:18:40.698006Z"
        },
        "colab": {
          "base_uri": "https://localhost:8080/"
        },
        "id": "940fc1d9bcc29efd",
        "outputId": "d4adf59c-ff43-4c3e-b553-19ac97fc59fa"
      },
      "cell_type": "code",
      "source": [
        "print(\"Test Accuracy:\", acc)\n",
        "print(\"F1 Macro Score:\", f1)"
      ],
      "id": "940fc1d9bcc29efd",
      "outputs": [
        {
          "output_type": "stream",
          "name": "stdout",
          "text": [
            "Test Accuracy: 0.9684684684684685\n",
            "F1 Macro Score: 0.9675192053266312\n"
          ]
        }
      ],
      "execution_count": null
    },
    {
      "metadata": {
        "ExecuteTime": {
          "end_time": "2025-05-23T10:18:42.924503Z",
          "start_time": "2025-05-23T10:18:42.606010Z"
        },
        "colab": {
          "base_uri": "https://localhost:8080/",
          "height": 507
        },
        "id": "e17183dbfc81be07",
        "outputId": "d1d9457c-8b85-4903-ea47-facc0793fe4c"
      },
      "cell_type": "code",
      "source": [
        "conf_matrix(y_test, y_pred, labels=sorted(set(y_test)))"
      ],
      "id": "e17183dbfc81be07",
      "outputs": [
        {
          "output_type": "display_data",
          "data": {
            "text/plain": [
              "<Figure size 600x500 with 1 Axes>"
            ],
            "image/png": "[encoded data removed]"
          },
          "metadata": {}
        }
      ],
      "execution_count": null
    }
  ],
  "metadata": {
    "kernelspec": {
      "display_name": "Python 3",
      "language": "python",
      "name": "python3"
    },
    "language_info": {
      "codemirror_mode": {
        "name": "ipython",
        "version": 2
      },
      "file_extension": ".py",
      "mimetype": "text/x-python",
      "name": "python",
      "nbconvert_exporter": "python",
      "pygments_lexer": "ipython2",
      "version": "2.7.6"
    },
    "colab": {
      "provenance": [],
      "include_colab_link": true
    }
  },
  "nbformat": 4,
  "nbformat_minor": 5
}